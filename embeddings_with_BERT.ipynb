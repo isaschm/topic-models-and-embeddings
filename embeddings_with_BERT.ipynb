{
  "nbformat": 4,
  "nbformat_minor": 0,
  "metadata": {
    "colab": {
      "name": "Topic_Models_and_Embeddings.ipynb",
      "provenance": [],
      "collapsed_sections": []
    },
    "kernelspec": {
      "name": "python3",
      "display_name": "Python 3"
    }
  },
  "cells": [
    {
      "cell_type": "markdown",
      "metadata": {
        "id": "iFXsrSxJlzCW",
        "colab_type": "text"
      },
      "source": [
        "#Todos\n",
        "\n",
        "\n",
        "Data\n",
        "- Load Data\n",
        "- Preprocessing? (Stop Words, Links, User Names, HTML Tags)\n",
        "\n",
        "Topic Model\n",
        "- LDA (Latent Dirichlet Allocation)\n",
        "\n",
        "\n",
        "Model Evaluation:\n",
        "- Print Results: Topics, Topic Members (e.g. nearest neighbour document) (https://asistdl.onlinelibrary.wiley.com/doi/full/10.1002/asi.23786\n",
        ")\n",
        "\n",
        "- global (topic coherence, topic diversity)\n",
        "- instance based/local\n",
        "- features\n",
        "\n",
        "\n",
        "Contextual Embeddings\n",
        "- USE (https://colab.research.google.com/github/tensorflow/hub/blob/master/examples/colab/semantic_similarity_with_tf_hub_universal_encoder.ipynb#scrollTo=RUymE2l9GZfO)\n",
        "- Dimensionality reduction (PCA, (UMAP), MDS) (Curse of dimensionality)\n",
        "- Clustering (Choose method: k-means, spectral, density-based methods https://scikit-learn.org/stable/modules/clustering.html)\n",
        "- Dimensionality reduction to 2D (T-SNE, UMAP)\n",
        "- make interactive map?\n",
        "\n",
        "Model Evaluation:\n",
        "- global\n",
        "- instance based/local\n",
        "- features"
      ]
    },
    {
      "cell_type": "markdown",
      "metadata": {
        "id": "VO9QOLP_9DxJ",
        "colab_type": "text"
      },
      "source": [
        "##Load Data"
      ]
    },
    {
      "cell_type": "code",
      "metadata": {
        "id": "yedoKEB5t5ym",
        "colab_type": "code",
        "colab": {
          "base_uri": "https://localhost:8080/",
          "height": 581
        },
        "outputId": "34ba5770-a799-484b-c9e7-c44b3c358bdc"
      },
      "source": [
        "import os\n",
        "\n",
        "os.chdir(os.path.expanduser('~'))\n",
        "import gdown\n",
        "zip_folder_name = 'youtube_comments_climate_change'\n",
        "\n",
        "shared_google_drive_link = 'https://drive.google.com/uc?id=1vca7QCLO6oMkbKiK_8Xa7IJj0HhqkEb3'\n",
        "output = zip_folder_name+'.zip'\n",
        "gdown.download(shared_google_drive_link,output, quiet=False)\n",
        "\n",
        "import zipfile\n",
        "with zipfile.ZipFile(output, 'r') as zip_ref:\n",
        "    zip_ref.extractall('')\n",
        "\n",
        "\n",
        "os.chdir(zip_folder_name) \n",
        "\n",
        "data_desciption_file = 'data_description.txt'\n",
        "\n",
        "with open(data_desciption_file,'r') as myfile:\n",
        "  f = myfile.read()\n",
        "print(f)"
      ],
      "execution_count": 1,
      "outputs": [
        {
          "output_type": "stream",
          "text": [
            "Downloading...\n",
            "From: https://drive.google.com/uc?id=1vca7QCLO6oMkbKiK_8Xa7IJj0HhqkEb3\n",
            "To: /root/youtube_comments_climate_change.zip\n",
            "5.30MB [00:00, 92.6MB/s]\n"
          ],
          "name": "stderr"
        },
        {
          "output_type": "stream",
          "text": [
            "Data description\n",
            "__________________\n",
            "\n",
            "// Project\n",
            "data deluge\n",
            "\n",
            "// Data mining\n",
            "All data are extracted using the YouTube Data Tools (YTDT):\n",
            "https://tools.digitalmethods.net/netvizz/youtube/\n",
            "Specifically, comments are extracted using the video info and comments module\n",
            "https://tools.digitalmethods.net/netvizz/youtube/mod_video_info.php\n",
            "\n",
            "// Datasets\n",
            "\n",
            "- videoinfo_xE0KtLy5j8w_2018_06_26-18_32_17_comments.xlsx\n",
            "This dataset includes all text posted within the comments section of the video https://youtu.be/xE0KtLy5j8w (produced by Climate Central, featured by The Daily Conversation)\n",
            "Additional variables such as time of posting, replies, likes, etc. have been removed from the dataset.\n",
            "The comments were then coded by hand, in order to identify particular coping strategies of people making sense of the information shown in the video (sea level rise scenarios).\n",
            "\n",
            "- videoinfo_VbiRNT_gWUQ_2020_01_16-10_08_40_comments.tab\n",
            "Data gathered from the video https://youtu.be/VbiRNT_gWUQ, produced by the National Geographic, featured by  Business Insider. This is the original dataset extracted through the YTDT video info and comments module, without further additions, or deletions.\n",
            "\n",
            "- lda_tuning_results.csv\n",
            "Data extracted from LDA models in the process of hyperparameter tuning, which means fixing model input parameters and calculating the resulting coherence scores.\n",
            "\n",
            "- stoplist.txt\n",
            "Manually assembled stop list.\n",
            "\n"
          ],
          "name": "stdout"
        }
      ]
    },
    {
      "cell_type": "markdown",
      "metadata": {
        "id": "FLFkUlqKLh_l",
        "colab_type": "text"
      },
      "source": [
        "### Open file as df and removing unused columns\n",
        "\n"
      ]
    },
    {
      "cell_type": "code",
      "metadata": {
        "id": "gbU3mk83MBIH",
        "colab_type": "code",
        "colab": {
          "base_uri": "https://localhost:8080/",
          "height": 204
        },
        "outputId": "6d2d0220-593e-4c1e-9b95-6d78abda2dd8"
      },
      "source": [
        "import pandas as pd\n",
        "\n",
        "\n",
        "path = \"videoinfo_VbiRNT_gWUQ_2020_01_16-10_08_40_comments.tab - videoinfo_VbiRNT_gWUQ_2020_01_16-10_08_40_comments.tab.csv\"\n",
        "data = pd.read_csv(path, sep=\",\", encoding='utf-8')\n",
        "data = data.dropna(subset=['text', 'authorName']) # drop rows with no content\n",
        "\n",
        "data=data.drop(['id', 'replyCount','likeCount','authorChannelUrl','authorChannelId','isReplyTo','isReplyToName'],axis=1) # drop unused columns\n",
        "data.head()"
      ],
      "execution_count": 2,
      "outputs": [
        {
          "output_type": "execute_result",
          "data": {
            "text/html": [
              "<div>\n",
              "<style scoped>\n",
              "    .dataframe tbody tr th:only-of-type {\n",
              "        vertical-align: middle;\n",
              "    }\n",
              "\n",
              "    .dataframe tbody tr th {\n",
              "        vertical-align: top;\n",
              "    }\n",
              "\n",
              "    .dataframe thead th {\n",
              "        text-align: right;\n",
              "    }\n",
              "</style>\n",
              "<table border=\"1\" class=\"dataframe\">\n",
              "  <thead>\n",
              "    <tr style=\"text-align: right;\">\n",
              "      <th></th>\n",
              "      <th>publishedAt</th>\n",
              "      <th>authorName</th>\n",
              "      <th>text</th>\n",
              "      <th>isReply</th>\n",
              "    </tr>\n",
              "  </thead>\n",
              "  <tbody>\n",
              "    <tr>\n",
              "      <th>0</th>\n",
              "      <td>2020-01-16 09:01:08</td>\n",
              "      <td>Lee McLellan</td>\n",
              "      <td>If all the ice melts surely the tilt of the ea...</td>\n",
              "      <td>0</td>\n",
              "    </tr>\n",
              "    <tr>\n",
              "      <th>1</th>\n",
              "      <td>2020-01-16 06:16:07</td>\n",
              "      <td>Aakash Majumdar</td>\n",
              "      <td>The scariest part of the video is the music......</td>\n",
              "      <td>0</td>\n",
              "    </tr>\n",
              "    <tr>\n",
              "      <th>2</th>\n",
              "      <td>2020-01-15 10:50:21</td>\n",
              "      <td>Glenn Davies</td>\n",
              "      <td>New Zealand be like...&amp;quot;are we good?&amp;quot;...</td>\n",
              "      <td>0</td>\n",
              "    </tr>\n",
              "    <tr>\n",
              "      <th>3</th>\n",
              "      <td>2020-01-15 08:35:50</td>\n",
              "      <td>Shane Meyer</td>\n",
              "      <td>Step #1: Taxes... Step #2: ???... Step #3: Utopia</td>\n",
              "      <td>0</td>\n",
              "    </tr>\n",
              "    <tr>\n",
              "      <th>4</th>\n",
              "      <td>2020-01-15 02:00:30</td>\n",
              "      <td>Rennie Allen</td>\n",
              "      <td>Strange how Hudson&amp;#39;s Bay stayed the same s...</td>\n",
              "      <td>0</td>\n",
              "    </tr>\n",
              "  </tbody>\n",
              "</table>\n",
              "</div>"
            ],
            "text/plain": [
              "           publishedAt  ... isReply\n",
              "0  2020-01-16 09:01:08  ...       0\n",
              "1  2020-01-16 06:16:07  ...       0\n",
              "2  2020-01-15 10:50:21  ...       0\n",
              "3  2020-01-15 08:35:50  ...       0\n",
              "4  2020-01-15 02:00:30  ...       0\n",
              "\n",
              "[5 rows x 4 columns]"
            ]
          },
          "metadata": {
            "tags": []
          },
          "execution_count": 2
        }
      ]
    },
    {
      "cell_type": "markdown",
      "metadata": {
        "id": "_IUWISh1M5nz",
        "colab_type": "text"
      },
      "source": [
        "## Preprocessing"
      ]
    },
    {
      "cell_type": "markdown",
      "metadata": {
        "id": "TBgbeZOMM1TQ",
        "colab_type": "text"
      },
      "source": [
        "### Removing HTML tags"
      ]
    },
    {
      "cell_type": "code",
      "metadata": {
        "id": "Pz8xp8RzA4dP",
        "colab_type": "code",
        "colab": {
          "base_uri": "https://localhost:8080/",
          "height": 85
        },
        "outputId": "4b775671-0073-497e-fbf2-b0ad0acc1385"
      },
      "source": [
        "!pip3 install html2text"
      ],
      "execution_count": 3,
      "outputs": [
        {
          "output_type": "stream",
          "text": [
            "Collecting html2text\n",
            "  Downloading https://files.pythonhosted.org/packages/ae/88/14655f727f66b3e3199f4467bafcc88283e6c31b562686bf606264e09181/html2text-2020.1.16-py3-none-any.whl\n",
            "Installing collected packages: html2text\n",
            "Successfully installed html2text-2020.1.16\n"
          ],
          "name": "stdout"
        }
      ]
    },
    {
      "cell_type": "code",
      "metadata": {
        "id": "vIgxEvzcM39J",
        "colab_type": "code",
        "colab": {
          "base_uri": "https://localhost:8080/",
          "height": 34
        },
        "outputId": "299c16e8-eb69-4a7f-af72-683f41da8dd5"
      },
      "source": [
        "from html2text import HTML2Text\n",
        "from tqdm import tqdm\n",
        "\n",
        "tqdm.pandas()\n",
        "\n",
        "h = HTML2Text()\n",
        "h.ignore_links = True\n",
        "\n",
        "data['text'] = data['text'].progress_apply(lambda x: h.handle(x))"
      ],
      "execution_count": 4,
      "outputs": [
        {
          "output_type": "stream",
          "text": [
            "100%|██████████| 25914/25914 [00:02<00:00, 9206.20it/s]\n"
          ],
          "name": "stderr"
        }
      ]
    },
    {
      "cell_type": "markdown",
      "metadata": {
        "id": "83BuFEGPNFO2",
        "colab_type": "text"
      },
      "source": [
        "### Removing links"
      ]
    },
    {
      "cell_type": "code",
      "metadata": {
        "id": "vYkHxy8mND1c",
        "colab_type": "code",
        "colab": {}
      },
      "source": [
        "http_link_pattern = r'http\\S+'\n",
        "bitly_link_pattern = r'bit.ly/\\S+'\n",
        "data['text'] = data['text'].str.replace(http_link_pattern, '')\n",
        "data['text'] = data['text'].str.replace(bitly_link_pattern, '')"
      ],
      "execution_count": 5,
      "outputs": []
    },
    {
      "cell_type": "markdown",
      "metadata": {
        "id": "fzOyOY7CNa_k",
        "colab_type": "text"
      },
      "source": [
        "### Removing user names"
      ]
    },
    {
      "cell_type": "markdown",
      "metadata": {
        "id": "u0CY9y1z4SRL",
        "colab_type": "text"
      },
      "source": [
        "Only user names consisting of more than 3 characters are removed to avoid unintentionally joining words."
      ]
    },
    {
      "cell_type": "code",
      "metadata": {
        "id": "6NF6VqiZNfts",
        "colab_type": "code",
        "colab": {}
      },
      "source": [
        "import re\n",
        "\n",
        "keep_names = [\"earth\", \"Tide\", \"Geologist\", \"A Person\", \"Titanic\", \"adventure\", \"Sun\", \"The United States Of America\"] # user names we want to keep\n",
        "user_names = [name for name in data['authorName'].unique() if (len(name)> 3 and name not in keep_names)]\n",
        "\n",
        "data['cleaned'] = data['text'].str.replace('|'.join(map(re.escape, user_names)), '')"
      ],
      "execution_count": null,
      "outputs": []
    },
    {
      "cell_type": "markdown",
      "metadata": {
        "id": "UAUnFz727jRt",
        "colab_type": "text"
      },
      "source": [
        "## Topic Modelling"
      ]
    },
    {
      "cell_type": "markdown",
      "metadata": {
        "id": "H2n_uzEX8_bs",
        "colab_type": "text"
      },
      "source": [
        "### Tokenizing\n",
        "\n"
      ]
    },
    {
      "cell_type": "code",
      "metadata": {
        "id": "q5g5idszAo26",
        "colab_type": "code",
        "colab": {}
      },
      "source": [
        "punctuation = '!\"$%&\\'()*+,-./:;<=>?[\\\\]^_`{|}~•@'\n",
        "\n",
        "def clean_text(text):\n",
        "    text = text.lower()\n",
        "    text = re.sub('['+punctuation + ']+', ' ', text) # strip punctuation\n",
        "    text = re.sub('\\s+', ' ', text) # remove double spacing\n",
        "    text = re.sub('([0-9]+)', '', text) # remove numbers\n",
        "    return text"
      ],
      "execution_count": null,
      "outputs": []
    },
    {
      "cell_type": "code",
      "metadata": {
        "id": "fZld5VNuesDn",
        "colab_type": "code",
        "colab": {}
      },
      "source": [
        "import nltk\n",
        "#nltk.download('punkt')\n",
        "from tqdm import tqdm\n",
        "import gensim\n",
        "from gensim.utils import simple_preprocess\n",
        "\n",
        "tqdm.pandas()\n",
        "\n",
        "def sent_to_words(sentences):\n",
        "    for sentence in sentences:\n",
        "        yield(gensim.utils.simple_preprocess(str(sentence)))\n",
        "\n",
        "data_cleaned = data['cleaned'].progress_apply(clean_text)\n",
        "data_words = list(sent_to_words(data_cleaned))"
      ],
      "execution_count": null,
      "outputs": []
    },
    {
      "cell_type": "markdown",
      "metadata": {
        "id": "dgWpAhXV66ek",
        "colab_type": "text"
      },
      "source": [
        "Every comment ends up as a \"cleaned\" list of words."
      ]
    },
    {
      "cell_type": "code",
      "metadata": {
        "id": "8Aq22JcYe8Z4",
        "colab_type": "code",
        "colab": {
          "base_uri": "https://localhost:8080/",
          "height": 537
        },
        "outputId": "5a6621c2-e75e-4d85-d981-56a773e07988"
      },
      "source": [
        "data_words[0]"
      ],
      "execution_count": null,
      "outputs": [
        {
          "output_type": "execute_result",
          "data": {
            "text/plain": [
              "['if',\n",
              " 'all',\n",
              " 'the',\n",
              " 'ice',\n",
              " 'melts',\n",
              " 'surely',\n",
              " 'the',\n",
              " 'tilt',\n",
              " 'of',\n",
              " 'the',\n",
              " 'earth',\n",
              " 'will',\n",
              " 'also',\n",
              " 'change',\n",
              " 'because',\n",
              " 'of',\n",
              " 'the',\n",
              " 'weight',\n",
              " 'diffrence',\n",
              " 'at',\n",
              " 'both',\n",
              " 'poles',\n",
              " 'and',\n",
              " 'would',\n",
              " 'this',\n",
              " 'affect',\n",
              " 'the',\n",
              " 'land',\n",
              " 'mass',\n",
              " 'to',\n",
              " 'change',\n",
              " 'also']"
            ]
          },
          "metadata": {
            "tags": []
          },
          "execution_count": 9
        }
      ]
    },
    {
      "cell_type": "markdown",
      "metadata": {
        "id": "jYi6t-iS6i7N",
        "colab_type": "text"
      },
      "source": [
        "### N-grams\n",
        "\n",
        "An n-gram is a contiguous sequence of items in this case words. A bigram consists of two words, a trigram of three words.\n",
        "\n",
        "The gensim Phrase detection automatically detects common sequences.\n",
        "\n",
        "Important params for these n-grams are min_count and threshold. The higher these params harder it is for words to be combined. "
      ]
    },
    {
      "cell_type": "code",
      "metadata": {
        "id": "ysYg_Fds6p23",
        "colab_type": "code",
        "colab": {}
      },
      "source": [
        "bigram = gensim.models.Phrases(data_words, min_count=5, threshold=100)\n",
        "\n",
        "# Exporting the trained model means faster processing BUT model updates no longer possible.\n",
        "bigram_mod = gensim.models.phrases.Phraser(bigram)"
      ],
      "execution_count": null,
      "outputs": []
    },
    {
      "cell_type": "markdown",
      "metadata": {
        "id": "IRkS1StdmNev",
        "colab_type": "text"
      },
      "source": [
        "### Removing stop words, lemmatization"
      ]
    },
    {
      "cell_type": "markdown",
      "metadata": {
        "id": "qyMSg5E37vw2",
        "colab_type": "text"
      },
      "source": [
        "For using manually assembled stoplist, exchange \"stop_words\" for \"stop_words_manually\" in line 11"
      ]
    },
    {
      "cell_type": "code",
      "metadata": {
        "id": "uymYVH3X6yid",
        "colab_type": "code",
        "colab": {
          "base_uri": "https://localhost:8080/",
          "height": 50
        },
        "outputId": "d1dd3763-67b4-4e74-89e5-a810cbcbd1ad"
      },
      "source": [
        "import nltk\n",
        "nltk.download('stopwords')\n",
        "from nltk.corpus import stopwords\n",
        "\n",
        "stop_words = stopwords.words('english')\n",
        "path = \"stoplist.txt\"\n",
        "with open(path, encoding=\"utf16\") as f:\n",
        "  stop_words_manually = f.read().splitlines()\n",
        "\n",
        "def remove_stopwords(texts):\n",
        "    return [[word for word in simple_preprocess(str(elem)) if word not in stop_words] for elem in texts]\n",
        "\n",
        "def make_bigrams(texts):\n",
        "    return [bigram_mod[elem] for elem in texts]\n",
        "\n",
        "def lemmatization(texts, allowed_postags=['NOUN', 'ADJ', 'VERB', 'ADV']):\n",
        "    \"\"\"https://spacy.io/api/annotation\"\"\"\n",
        "    texts_out = []\n",
        "    for sent in texts:\n",
        "        doc = nlp(\" \".join(sent)) \n",
        "        texts_out.append([token.lemma_ for token in doc if token.pos_ in allowed_postags])\n",
        "    return texts_out"
      ],
      "execution_count": null,
      "outputs": [
        {
          "output_type": "stream",
          "text": [
            "[nltk_data] Downloading package stopwords to /root/nltk_data...\n",
            "[nltk_data]   Unzipping corpora/stopwords.zip.\n"
          ],
          "name": "stdout"
        }
      ]
    },
    {
      "cell_type": "markdown",
      "metadata": {
        "id": "WTao_Thf8B4u",
        "colab_type": "text"
      },
      "source": [
        "During lemmatization only nouns, adjectives, verbs, and adverbs are kept."
      ]
    },
    {
      "cell_type": "code",
      "metadata": {
        "id": "6bwszolf7MCm",
        "colab_type": "code",
        "colab": {}
      },
      "source": [
        "import spacy\n",
        "\n",
        "data_words_nostops = remove_stopwords(data_words)\n",
        "\n",
        "data_words_bigrams = make_bigrams(data_words_nostops)\n",
        "\n",
        "nlp = spacy.load(\"en_core_web_sm\", disable=['parser', 'ner'])\n",
        "\n",
        "data_lemmatized = lemmatization(data_words_bigrams, allowed_postags=['NOUN', 'ADJ', 'VERB', 'ADV'])"
      ],
      "execution_count": null,
      "outputs": []
    },
    {
      "cell_type": "code",
      "metadata": {
        "id": "DjZEu7CQ7P--",
        "colab_type": "code",
        "colab": {
          "base_uri": "https://localhost:8080/",
          "height": 277
        },
        "outputId": "875477b9-bd4c-4b54-daed-ab6b718909aa"
      },
      "source": [
        "data_lemmatized[0]"
      ],
      "execution_count": null,
      "outputs": [
        {
          "output_type": "execute_result",
          "data": {
            "text/plain": [
              "['ice',\n",
              " 'melt',\n",
              " 'surely',\n",
              " 'tilt',\n",
              " 'earth',\n",
              " 'also',\n",
              " 'change',\n",
              " 'weight',\n",
              " 'diffrence',\n",
              " 'pole',\n",
              " 'would',\n",
              " 'affect',\n",
              " 'land',\n",
              " 'mass',\n",
              " 'change',\n",
              " 'also']"
            ]
          },
          "metadata": {
            "tags": []
          },
          "execution_count": 13
        }
      ]
    },
    {
      "cell_type": "markdown",
      "metadata": {
        "id": "WhoSaoTT7YHC",
        "colab_type": "text"
      },
      "source": [
        "### LDA"
      ]
    },
    {
      "cell_type": "markdown",
      "metadata": {
        "id": "sSuS5win8JoI",
        "colab_type": "text"
      },
      "source": [
        "The gensim LDA model needs dictionary(id2word) and corpus. The dictionary creates an unique id for all words, the corpus maps the id to the number of occurences in the model."
      ]
    },
    {
      "cell_type": "code",
      "metadata": {
        "id": "DUe5dLfB7VYK",
        "colab_type": "code",
        "colab": {}
      },
      "source": [
        "import gensim.corpora as corpora\n",
        "\n",
        "id2word = corpora.Dictionary(data_lemmatized)\n",
        "\n",
        "texts = data_lemmatized\n",
        "\n",
        "corpus = [id2word.doc2bow(text) for text in texts]"
      ],
      "execution_count": null,
      "outputs": []
    },
    {
      "cell_type": "code",
      "metadata": {
        "id": "k-EI-B_P7dNK",
        "colab_type": "code",
        "colab": {
          "base_uri": "https://localhost:8080/",
          "height": 245
        },
        "outputId": "6fabedbf-0912-4cc5-f722-086a6ff78fcb"
      },
      "source": [
        "corpus[0]"
      ],
      "execution_count": null,
      "outputs": [
        {
          "output_type": "execute_result",
          "data": {
            "text/plain": [
              "[(0, 1),\n",
              " (1, 2),\n",
              " (2, 2),\n",
              " (3, 1),\n",
              " (4, 1),\n",
              " (5, 1),\n",
              " (6, 1),\n",
              " (7, 1),\n",
              " (8, 1),\n",
              " (9, 1),\n",
              " (10, 1),\n",
              " (11, 1),\n",
              " (12, 1),\n",
              " (13, 1)]"
            ]
          },
          "metadata": {
            "tags": []
          },
          "execution_count": 15
        }
      ]
    },
    {
      "cell_type": "code",
      "metadata": {
        "id": "NC9EwbaJ7fzF",
        "colab_type": "code",
        "colab": {
          "base_uri": "https://localhost:8080/",
          "height": 35
        },
        "outputId": "9aa3c4dc-0061-4edd-dc69-e8ad76fc2b13"
      },
      "source": [
        "id2word[0]"
      ],
      "execution_count": null,
      "outputs": [
        {
          "output_type": "execute_result",
          "data": {
            "application/vnd.google.colaboratory.intrinsic+json": {
              "type": "string"
            },
            "text/plain": [
              "'affect'"
            ]
          },
          "metadata": {
            "tags": []
          },
          "execution_count": 16
        }
      ]
    },
    {
      "cell_type": "code",
      "metadata": {
        "id": "6E3kY0IL7h-Q",
        "colab_type": "code",
        "colab": {
          "base_uri": "https://localhost:8080/",
          "height": 245
        },
        "outputId": "d61386f6-2ac0-4655-9e50-38ad81d0af42"
      },
      "source": [
        "[[(id2word[id], freq) for id, freq in cp] for cp in corpus[:1]]"
      ],
      "execution_count": null,
      "outputs": [
        {
          "output_type": "execute_result",
          "data": {
            "text/plain": [
              "[[('affect', 1),\n",
              "  ('also', 2),\n",
              "  ('change', 2),\n",
              "  ('diffrence', 1),\n",
              "  ('earth', 1),\n",
              "  ('ice', 1),\n",
              "  ('land', 1),\n",
              "  ('mass', 1),\n",
              "  ('melt', 1),\n",
              "  ('pole', 1),\n",
              "  ('surely', 1),\n",
              "  ('tilt', 1),\n",
              "  ('weight', 1),\n",
              "  ('would', 1)]]"
            ]
          },
          "metadata": {
            "tags": []
          },
          "execution_count": 17
        }
      ]
    },
    {
      "cell_type": "markdown",
      "metadata": {
        "id": "RfhDjWII8blz",
        "colab_type": "text"
      },
      "source": [
        "Aside from corpus and dictionary, the model takes the number of topics, chunksize (number of documents to be used in each training chunk increasing chunksize speed up training), and passes (epochs) as input."
      ]
    },
    {
      "cell_type": "code",
      "metadata": {
        "id": "mc1dW7uL8cgP",
        "colab_type": "code",
        "colab": {}
      },
      "source": [
        "num_topics = 10\n",
        "chunksize = 100\n",
        "passes = 10\n",
        "\n",
        "lda_model = gensim.models.LdaMulticore(corpus=corpus,\n",
        "                                       id2word=id2word,\n",
        "                                       num_topics=num_topics, \n",
        "                                       random_state=100,\n",
        "                                       chunksize=chunksize,\n",
        "                                       passes=passes,\n",
        "                                       per_word_topics=True)"
      ],
      "execution_count": null,
      "outputs": []
    },
    {
      "cell_type": "code",
      "metadata": {
        "id": "Ua8eyyQa8gCe",
        "colab_type": "code",
        "colab": {
          "base_uri": "https://localhost:8080/",
          "height": 602
        },
        "outputId": "0d0a318f-3073-47dd-ba32-7e2a012600ec"
      },
      "source": [
        "from pprint import pprint\n",
        "\n",
        "pprint(lda_model.print_topics())\n",
        "doc_lda = lda_model[corpus]"
      ],
      "execution_count": null,
      "outputs": [
        {
          "output_type": "stream",
          "text": [
            "[(0,\n",
            "  '0.072*\"look\" + 0.054*\"bad\" + 0.044*\"would\" + 0.040*\"flood\" + 0.038*\"go\" + '\n",
            "  '0.037*\"lol\" + 0.036*\"think\" + 0.033*\"place\" + 0.027*\"state\" + '\n",
            "  '0.023*\"affect\"'),\n",
            " (1,\n",
            "  '0.037*\"video\" + 0.030*\"area\" + 0.026*\"make\" + 0.023*\"problem\" + '\n",
            "  '0.023*\"care\" + 0.022*\"right\" + 0.021*\"music\" + 0.017*\"leave\" + 0.017*\"last\" '\n",
            "  '+ 0.017*\"survive\"'),\n",
            " (2,\n",
            "  '0.055*\"city\" + 0.047*\"get\" + 0.044*\"still\" + 0.037*\"good\" + 0.027*\"big\" + '\n",
            "  '0.023*\"thing\" + 0.021*\"live\" + 0.017*\"find\" + 0.017*\"need\" + 0.017*\"let\"'),\n",
            " (3,\n",
            "  '0.043*\"say\" + 0.039*\"people\" + 0.028*\"many\" + 0.025*\"come\" + 0.023*\"much\" + '\n",
            "  '0.021*\"die\" + 0.020*\"want\" + 0.019*\"year\" + 0.018*\"life\" + 0.017*\"take\"'),\n",
            " (4,\n",
            "  '0.042*\"know\" + 0.030*\"even\" + 0.025*\"time\" + 0.021*\"think\" + 0.019*\"really\" '\n",
            "  '+ 0.018*\"fuck\" + 0.018*\"move\" + 0.017*\"get\" + 0.016*\"may\" + 0.015*\"world\"'),\n",
            " (5,\n",
            "  '0.117*\"water\" + 0.097*\"ice\" + 0.044*\"melt\" + 0.038*\"level\" + 0.035*\"would\" '\n",
            "  '+ 0.033*\"show\" + 0.028*\"land\" + 0.022*\"rise\" + 0.021*\"sea\" + 0.017*\"ocean\"'),\n",
            " (6,\n",
            "  '0.130*\"go\" + 0.025*\"oil\" + 0.021*\"give\" + 0.021*\"tell\" + 0.020*\"least\" + '\n",
            "  '0.020*\"stop\" + 0.018*\"population\" + 0.018*\"comment\" + 0.015*\"completely\" + '\n",
            "  '0.013*\"exist\"'),\n",
            " (7,\n",
            "  '0.065*\"people\" + 0.049*\"live\" + 0.027*\"see\" + 0.022*\"use\" + 0.019*\"world\" + '\n",
            "  '0.016*\"keep\" + 0.015*\"money\" + 0.014*\"help\" + 0.013*\"country\" + '\n",
            "  '0.012*\"wait\"'),\n",
            " (8,\n",
            "  '0.106*\"would\" + 0.044*\"sea\" + 0.043*\"country\" + 0.039*\"level\" + '\n",
            "  '0.033*\"year\" + 0.030*\"lot\" + 0.029*\"happen\" + 0.025*\"rise\" + 0.022*\"become\" '\n",
            "  '+ 0.021*\"man\"'),\n",
            " (9,\n",
            "  '0.032*\"change\" + 0.025*\"high\" + 0.024*\"put\" + 0.023*\"already\" + '\n",
            "  '0.023*\"planet\" + 0.022*\"enough\" + 0.019*\"cause\" + 0.017*\"great\" + '\n",
            "  '0.017*\"actually\" + 0.015*\"temperature\"')]\n"
          ],
          "name": "stdout"
        }
      ]
    },
    {
      "cell_type": "code",
      "metadata": {
        "id": "06ZFyppK8ruk",
        "colab_type": "code",
        "colab": {
          "base_uri": "https://localhost:8080/",
          "height": 82
        },
        "outputId": "5f5a4b4e-5e87-4fd4-932e-db20e9c2cc3c"
      },
      "source": [
        "from gensim.models import CoherenceModel\n",
        "\n",
        "print('\\nPerplexity: ', lda_model.log_perplexity(corpus))  # the lower the better.\n",
        "\n",
        "coherence_model_lda = CoherenceModel(model=lda_model, texts=data_lemmatized, dictionary=id2word, coherence='c_v')\n",
        "coherence_lda = coherence_model_lda.get_coherence()\n",
        "print('\\nCoherence Score: ', coherence_lda)"
      ],
      "execution_count": null,
      "outputs": [
        {
          "output_type": "stream",
          "text": [
            "\n",
            "Perplexity:  -8.082126696518344\n",
            "\n",
            "Coherence Score:  0.5041024269591217\n"
          ],
          "name": "stdout"
        }
      ]
    },
    {
      "cell_type": "markdown",
      "metadata": {
        "id": "1y56yvIO8t2-",
        "colab_type": "text"
      },
      "source": [
        "### Hyperparameter Tuning"
      ]
    },
    {
      "cell_type": "markdown",
      "metadata": {
        "id": "nkgH1sY98wii",
        "colab_type": "text"
      },
      "source": [
        "Alpha and beta are hyperparameters that affect sparsity of the topics\n",
        "\n",
        "[As seen here.](https://towardsdatascience.com/evaluate-topic-model-in-python-latent-dirichlet-allocation-lda-7d57484bb5d0)\n",
        "\n",
        "**The script runs for about 1:50h.**"
      ]
    },
    {
      "cell_type": "code",
      "metadata": {
        "id": "qv8gUlwX84vZ",
        "colab_type": "code",
        "colab": {}
      },
      "source": [
        "def compute_coherence_values(corpus, dictionary, k, a, b):\n",
        "    \n",
        "    lda_model = gensim.models.LdaMulticore(corpus=corpus,\n",
        "                                           id2word=dictionary,\n",
        "                                           num_topics=k, \n",
        "                                           random_state=100,\n",
        "                                           chunksize=100,\n",
        "                                           passes=10,\n",
        "                                           alpha=a,\n",
        "                                           eta=b)\n",
        "    \n",
        "    coherence_model_lda = CoherenceModel(model=lda_model, texts=data_lemmatized, dictionary=id2word, coherence='c_v')\n",
        "    \n",
        "    return coherence_model_lda.get_coherence()"
      ],
      "execution_count": null,
      "outputs": []
    },
    {
      "cell_type": "code",
      "metadata": {
        "id": "XJcxaB-w9LHy",
        "colab_type": "code",
        "colab": {
          "base_uri": "https://localhost:8080/",
          "height": 66
        },
        "outputId": "bbc2d699-51e8-4365-9720-96279f30d8a3"
      },
      "source": [
        "import numpy as np\n",
        "import tqdm\n",
        "\n",
        "grid = {}\n",
        "grid['Validation_Set'] = {}\n",
        "\n",
        "# Topics range\n",
        "min_topics = 2\n",
        "max_topics = 11\n",
        "step_size = 1\n",
        "topics_range = range(min_topics, max_topics, step_size)\n",
        "\n",
        "# Alpha parameter\n",
        "alpha = list(np.arange(0.01, 1, 0.3))\n",
        "alpha.append('symmetric')\n",
        "alpha.append('asymmetric')\n",
        "\n",
        "# Beta parameter\n",
        "beta = list(np.arange(0.01, 1, 0.3))\n",
        "beta.append('symmetric')\n",
        "\n",
        "# Validation sets\n",
        "num_of_docs = len(corpus)\n",
        "corpus_sets = [# gensim.utils.ClippedCorpus(corpus, num_of_docs*0.25), \n",
        "               # gensim.utils.ClippedCorpus(corpus, num_of_docs*0.5), \n",
        "               # gensim.utils.ClippedCorpus(corpus, num_of_docs*0.75), \n",
        "               corpus]\n",
        "\n",
        "corpus_title = ['100% Corpus']\n",
        "\n",
        "model_results = {'Validation_Set': [],\n",
        "                 'Topics': [],\n",
        "                 'Alpha': [],\n",
        "                 'Beta': [],\n",
        "                 'Coherence': []\n",
        "                }\n",
        "\n",
        "# Can take a long time to run\n",
        "if 1 == 1:\n",
        "    pbar = tqdm.tqdm(total=(len(beta)*len(alpha)*len(topics_range)*len(corpus_title)))\n",
        "    \n",
        "    # iterate through validation corpuses\n",
        "    for i in range(len(corpus_sets)):\n",
        "        # iterate through number of topics\n",
        "        for k in topics_range:\n",
        "            # iterate through alpha values\n",
        "            for a in alpha:\n",
        "                # iterare through beta values\n",
        "                for b in beta:\n",
        "                    # get the coherence score for the given parameters\n",
        "                    cv = compute_coherence_values(corpus=corpus_sets[i], dictionary=id2word, \n",
        "                                                  k=k, a=a, b=b)\n",
        "                    # Save the model results\n",
        "                    model_results['Validation_Set'].append(corpus_title[i])\n",
        "                    model_results['Topics'].append(k)\n",
        "                    model_results['Alpha'].append(a)\n",
        "                    model_results['Beta'].append(b)\n",
        "                    model_results['Coherence'].append(cv)\n",
        "                    \n",
        "                    pbar.update(1)\n",
        "    pd.DataFrame(model_results).to_csv('lda_tuning_results.csv', index=False)\n",
        "    pbar.close()"
      ],
      "execution_count": null,
      "outputs": [
        {
          "output_type": "stream",
          "text": [
            "\r  0%|          | 0/270 [00:00<?, ?it/s]/usr/local/lib/python3.6/dist-packages/gensim/models/ldamodel.py:1023: RuntimeWarning: divide by zero encountered in log\n",
            "  diff = np.log(self.expElogbeta)\n",
            "100%|██████████| 270/270 [7:08:57<00:00, 95.33s/it] \n"
          ],
          "name": "stderr"
        }
      ]
    },
    {
      "cell_type": "markdown",
      "metadata": {
        "id": "ee1hc2up9Udq",
        "colab_type": "text"
      },
      "source": [
        "### Analyzing results of hyperparameter tuning"
      ]
    },
    {
      "cell_type": "code",
      "metadata": {
        "id": "HHIZ0WmF9nLJ",
        "colab_type": "code",
        "colab": {
          "base_uri": "https://localhost:8080/",
          "height": 33
        },
        "outputId": "88dbb5d2-afc0-41d2-84b8-ef05f64c1df4"
      },
      "source": [
        "path = \"lda_tuning_results.csv\"\n",
        "lda_results = pd.read_csv(path, sep=\",\", encoding='utf-8')\n",
        "\n",
        "list(lda_results.columns)"
      ],
      "execution_count": null,
      "outputs": [
        {
          "output_type": "execute_result",
          "data": {
            "text/plain": [
              "['Validation_Set', 'Topics', 'Alpha', 'Beta', 'Coherence']"
            ]
          },
          "metadata": {
            "tags": []
          },
          "execution_count": 23
        }
      ]
    },
    {
      "cell_type": "code",
      "metadata": {
        "id": "NmtU_avKTMA8",
        "colab_type": "code",
        "colab": {
          "base_uri": "https://localhost:8080/",
          "height": 282
        },
        "outputId": "14603071-11a8-47d8-9401-cb3efe92ed8d"
      },
      "source": [
        "import matplotlib.pyplot as plt\n",
        "import numpy as np\n",
        "\n",
        "coherence = lda_results.loc[np.logical_and(lda_results.Alpha == \"0.01\", lda_results.Beta == \"0.01\")]['Coherence']\n",
        "topics = lda_results.loc[np.logical_and(lda_results.Alpha == \"0.01\", lda_results.Beta == \"0.01\")]['Topics']\n",
        "\n",
        "plt.plot(topics, coherence, linestyle='-', marker='o')\n",
        "plt.ylabel('Coherence')\n",
        "plt.xlabel('Topics')\n",
        "plt.show()"
      ],
      "execution_count": null,
      "outputs": [
        {
          "output_type": "display_data",
          "data": {
            "image/png": "[encoded data removed]",
            "text/plain": [
              "<Figure size 432x288 with 1 Axes>"
            ]
          },
          "metadata": {
            "tags": [],
            "needs_background": "light"
          }
        }
      ]
    },
    {
      "cell_type": "code",
      "metadata": {
        "id": "cNkMN-5sTPiR",
        "colab_type": "code",
        "colab": {
          "base_uri": "https://localhost:8080/",
          "height": 910
        },
        "outputId": "63526e25-c5fb-417f-b434-7a74e16a0aab"
      },
      "source": [
        "lda_results.loc[lda_results.Topics == 8][['Topics', 'Alpha', 'Beta', 'Coherence']]"
      ],
      "execution_count": null,
      "outputs": [
        {
          "output_type": "execute_result",
          "data": {
            "text/html": [
              "<div>\n",
              "<style scoped>\n",
              "    .dataframe tbody tr th:only-of-type {\n",
              "        vertical-align: middle;\n",
              "    }\n",
              "\n",
              "    .dataframe tbody tr th {\n",
              "        vertical-align: top;\n",
              "    }\n",
              "\n",
              "    .dataframe thead th {\n",
              "        text-align: right;\n",
              "    }\n",
              "</style>\n",
              "<table border=\"1\" class=\"dataframe\">\n",
              "  <thead>\n",
              "    <tr style=\"text-align: right;\">\n",
              "      <th></th>\n",
              "      <th>Topics</th>\n",
              "      <th>Alpha</th>\n",
              "      <th>Beta</th>\n",
              "      <th>Coherence</th>\n",
              "    </tr>\n",
              "  </thead>\n",
              "  <tbody>\n",
              "    <tr>\n",
              "      <th>180</th>\n",
              "      <td>8</td>\n",
              "      <td>0.01</td>\n",
              "      <td>0.01</td>\n",
              "      <td>0.563529</td>\n",
              "    </tr>\n",
              "    <tr>\n",
              "      <th>181</th>\n",
              "      <td>8</td>\n",
              "      <td>0.01</td>\n",
              "      <td>0.31</td>\n",
              "      <td>0.555529</td>\n",
              "    </tr>\n",
              "    <tr>\n",
              "      <th>182</th>\n",
              "      <td>8</td>\n",
              "      <td>0.01</td>\n",
              "      <td>0.61</td>\n",
              "      <td>0.537989</td>\n",
              "    </tr>\n",
              "    <tr>\n",
              "      <th>183</th>\n",
              "      <td>8</td>\n",
              "      <td>0.01</td>\n",
              "      <td>0.9099999999999999</td>\n",
              "      <td>0.587326</td>\n",
              "    </tr>\n",
              "    <tr>\n",
              "      <th>184</th>\n",
              "      <td>8</td>\n",
              "      <td>0.01</td>\n",
              "      <td>symmetric</td>\n",
              "      <td>0.574111</td>\n",
              "    </tr>\n",
              "    <tr>\n",
              "      <th>185</th>\n",
              "      <td>8</td>\n",
              "      <td>0.31</td>\n",
              "      <td>0.01</td>\n",
              "      <td>0.537229</td>\n",
              "    </tr>\n",
              "    <tr>\n",
              "      <th>186</th>\n",
              "      <td>8</td>\n",
              "      <td>0.31</td>\n",
              "      <td>0.31</td>\n",
              "      <td>0.510433</td>\n",
              "    </tr>\n",
              "    <tr>\n",
              "      <th>187</th>\n",
              "      <td>8</td>\n",
              "      <td>0.31</td>\n",
              "      <td>0.61</td>\n",
              "      <td>0.484110</td>\n",
              "    </tr>\n",
              "    <tr>\n",
              "      <th>188</th>\n",
              "      <td>8</td>\n",
              "      <td>0.31</td>\n",
              "      <td>0.9099999999999999</td>\n",
              "      <td>0.512353</td>\n",
              "    </tr>\n",
              "    <tr>\n",
              "      <th>189</th>\n",
              "      <td>8</td>\n",
              "      <td>0.31</td>\n",
              "      <td>symmetric</td>\n",
              "      <td>0.538294</td>\n",
              "    </tr>\n",
              "    <tr>\n",
              "      <th>190</th>\n",
              "      <td>8</td>\n",
              "      <td>0.61</td>\n",
              "      <td>0.01</td>\n",
              "      <td>0.550424</td>\n",
              "    </tr>\n",
              "    <tr>\n",
              "      <th>191</th>\n",
              "      <td>8</td>\n",
              "      <td>0.61</td>\n",
              "      <td>0.31</td>\n",
              "      <td>0.527048</td>\n",
              "    </tr>\n",
              "    <tr>\n",
              "      <th>192</th>\n",
              "      <td>8</td>\n",
              "      <td>0.61</td>\n",
              "      <td>0.61</td>\n",
              "      <td>0.533337</td>\n",
              "    </tr>\n",
              "    <tr>\n",
              "      <th>193</th>\n",
              "      <td>8</td>\n",
              "      <td>0.61</td>\n",
              "      <td>0.9099999999999999</td>\n",
              "      <td>0.534265</td>\n",
              "    </tr>\n",
              "    <tr>\n",
              "      <th>194</th>\n",
              "      <td>8</td>\n",
              "      <td>0.61</td>\n",
              "      <td>symmetric</td>\n",
              "      <td>0.548031</td>\n",
              "    </tr>\n",
              "    <tr>\n",
              "      <th>195</th>\n",
              "      <td>8</td>\n",
              "      <td>0.9099999999999999</td>\n",
              "      <td>0.01</td>\n",
              "      <td>0.521257</td>\n",
              "    </tr>\n",
              "    <tr>\n",
              "      <th>196</th>\n",
              "      <td>8</td>\n",
              "      <td>0.9099999999999999</td>\n",
              "      <td>0.31</td>\n",
              "      <td>0.533538</td>\n",
              "    </tr>\n",
              "    <tr>\n",
              "      <th>197</th>\n",
              "      <td>8</td>\n",
              "      <td>0.9099999999999999</td>\n",
              "      <td>0.61</td>\n",
              "      <td>0.513612</td>\n",
              "    </tr>\n",
              "    <tr>\n",
              "      <th>198</th>\n",
              "      <td>8</td>\n",
              "      <td>0.9099999999999999</td>\n",
              "      <td>0.9099999999999999</td>\n",
              "      <td>0.526628</td>\n",
              "    </tr>\n",
              "    <tr>\n",
              "      <th>199</th>\n",
              "      <td>8</td>\n",
              "      <td>0.9099999999999999</td>\n",
              "      <td>symmetric</td>\n",
              "      <td>0.528325</td>\n",
              "    </tr>\n",
              "    <tr>\n",
              "      <th>200</th>\n",
              "      <td>8</td>\n",
              "      <td>symmetric</td>\n",
              "      <td>0.01</td>\n",
              "      <td>0.555104</td>\n",
              "    </tr>\n",
              "    <tr>\n",
              "      <th>201</th>\n",
              "      <td>8</td>\n",
              "      <td>symmetric</td>\n",
              "      <td>0.31</td>\n",
              "      <td>0.554768</td>\n",
              "    </tr>\n",
              "    <tr>\n",
              "      <th>202</th>\n",
              "      <td>8</td>\n",
              "      <td>symmetric</td>\n",
              "      <td>0.61</td>\n",
              "      <td>0.517965</td>\n",
              "    </tr>\n",
              "    <tr>\n",
              "      <th>203</th>\n",
              "      <td>8</td>\n",
              "      <td>symmetric</td>\n",
              "      <td>0.9099999999999999</td>\n",
              "      <td>0.615764</td>\n",
              "    </tr>\n",
              "    <tr>\n",
              "      <th>204</th>\n",
              "      <td>8</td>\n",
              "      <td>symmetric</td>\n",
              "      <td>symmetric</td>\n",
              "      <td>0.545136</td>\n",
              "    </tr>\n",
              "    <tr>\n",
              "      <th>205</th>\n",
              "      <td>8</td>\n",
              "      <td>asymmetric</td>\n",
              "      <td>0.01</td>\n",
              "      <td>0.543732</td>\n",
              "    </tr>\n",
              "    <tr>\n",
              "      <th>206</th>\n",
              "      <td>8</td>\n",
              "      <td>asymmetric</td>\n",
              "      <td>0.31</td>\n",
              "      <td>0.544248</td>\n",
              "    </tr>\n",
              "    <tr>\n",
              "      <th>207</th>\n",
              "      <td>8</td>\n",
              "      <td>asymmetric</td>\n",
              "      <td>0.61</td>\n",
              "      <td>0.611189</td>\n",
              "    </tr>\n",
              "    <tr>\n",
              "      <th>208</th>\n",
              "      <td>8</td>\n",
              "      <td>asymmetric</td>\n",
              "      <td>0.9099999999999999</td>\n",
              "      <td>0.613816</td>\n",
              "    </tr>\n",
              "    <tr>\n",
              "      <th>209</th>\n",
              "      <td>8</td>\n",
              "      <td>asymmetric</td>\n",
              "      <td>symmetric</td>\n",
              "      <td>0.545605</td>\n",
              "    </tr>\n",
              "  </tbody>\n",
              "</table>\n",
              "</div>"
            ],
            "text/plain": [
              "     Topics               Alpha                Beta  Coherence\n",
              "180       8                0.01                0.01   0.563529\n",
              "181       8                0.01                0.31   0.555529\n",
              "182       8                0.01                0.61   0.537989\n",
              "183       8                0.01  0.9099999999999999   0.587326\n",
              "184       8                0.01           symmetric   0.574111\n",
              "185       8                0.31                0.01   0.537229\n",
              "186       8                0.31                0.31   0.510433\n",
              "187       8                0.31                0.61   0.484110\n",
              "188       8                0.31  0.9099999999999999   0.512353\n",
              "189       8                0.31           symmetric   0.538294\n",
              "190       8                0.61                0.01   0.550424\n",
              "191       8                0.61                0.31   0.527048\n",
              "192       8                0.61                0.61   0.533337\n",
              "193       8                0.61  0.9099999999999999   0.534265\n",
              "194       8                0.61           symmetric   0.548031\n",
              "195       8  0.9099999999999999                0.01   0.521257\n",
              "196       8  0.9099999999999999                0.31   0.533538\n",
              "197       8  0.9099999999999999                0.61   0.513612\n",
              "198       8  0.9099999999999999  0.9099999999999999   0.526628\n",
              "199       8  0.9099999999999999           symmetric   0.528325\n",
              "200       8           symmetric                0.01   0.555104\n",
              "201       8           symmetric                0.31   0.554768\n",
              "202       8           symmetric                0.61   0.517965\n",
              "203       8           symmetric  0.9099999999999999   0.615764\n",
              "204       8           symmetric           symmetric   0.545136\n",
              "205       8          asymmetric                0.01   0.543732\n",
              "206       8          asymmetric                0.31   0.544248\n",
              "207       8          asymmetric                0.61   0.611189\n",
              "208       8          asymmetric  0.9099999999999999   0.613816\n",
              "209       8          asymmetric           symmetric   0.545605"
            ]
          },
          "metadata": {
            "tags": []
          },
          "execution_count": 25
        }
      ]
    },
    {
      "cell_type": "code",
      "metadata": {
        "id": "ZPjtRRu6TYcG",
        "colab_type": "code",
        "colab": {
          "base_uri": "https://localhost:8080/",
          "height": 115
        },
        "outputId": "c571f58e-8377-42db-9da7-58eb0dcc5618"
      },
      "source": [
        "lda_results.loc[lda_results['Coherence'].idxmax()]"
      ],
      "execution_count": null,
      "outputs": [
        {
          "output_type": "execute_result",
          "data": {
            "text/plain": [
              "Validation_Set    100% Corpus\n",
              "Topics                      3\n",
              "Alpha              asymmetric\n",
              "Beta                symmetric\n",
              "Coherence            0.677208\n",
              "Name: 59, dtype: object"
            ]
          },
          "metadata": {
            "tags": []
          },
          "execution_count": 26
        }
      ]
    },
    {
      "cell_type": "code",
      "metadata": {
        "id": "j4z4huEnTbCn",
        "colab_type": "code",
        "colab": {
          "base_uri": "https://localhost:8080/",
          "height": 50
        },
        "outputId": "75596a21-3830-4b8a-90b0-6b86d1c6155a"
      },
      "source": [
        "tuned_lda_model = gensim.models.LdaMulticore(corpus=corpus,\n",
        "                                           id2word=id2word,\n",
        "                                           num_topics=4, \n",
        "                                           random_state=100,\n",
        "                                           chunksize=100,\n",
        "                                           passes=10,\n",
        "                                           alpha=\"asymmetric\",\n",
        "                                           eta=0.01)"
      ],
      "execution_count": null,
      "outputs": [
        {
          "output_type": "stream",
          "text": [
            "/usr/local/lib/python3.6/dist-packages/gensim/models/ldamodel.py:1023: RuntimeWarning: divide by zero encountered in log\n",
            "  diff = np.log(self.expElogbeta)\n"
          ],
          "name": "stderr"
        }
      ]
    },
    {
      "cell_type": "code",
      "metadata": {
        "id": "TSJSrsdiTfC4",
        "colab_type": "code",
        "colab": {
          "base_uri": "https://localhost:8080/",
          "height": 228
        },
        "outputId": "f169297c-0328-4571-b7ac-4993c333194a"
      },
      "source": [
        "from pprint import pprint\n",
        "\n",
        "pprint(tuned_lda_model.print_topics())\n",
        "doc_tuned_lda = tuned_lda_model[corpus]"
      ],
      "execution_count": null,
      "outputs": [
        {
          "output_type": "stream",
          "text": [
            "[(0,\n",
            "  '0.049*\"go\" + 0.045*\"would\" + 0.023*\"think\" + 0.023*\"world\" + 0.022*\"get\" + '\n",
            "  '0.022*\"know\" + 0.020*\"live\" + 0.019*\"look\" + 0.019*\"happen\" + 0.018*\"see\"'),\n",
            " (1,\n",
            "  '0.065*\"make\" + 0.046*\"say\" + 0.042*\"take\" + 0.040*\"people\" + 0.028*\"lot\" + '\n",
            "  '0.026*\"right\" + 0.025*\"many\" + 0.024*\"use\" + 0.023*\"put\" + 0.022*\"area\"'),\n",
            " (2,\n",
            "  '0.136*\"water\" + 0.109*\"ice\" + 0.077*\"level\" + 0.063*\"sea\" + 0.049*\"melt\" + '\n",
            "  '0.047*\"rise\" + 0.046*\"would\" + 0.028*\"land\" + 0.026*\"ocean\" + 0.021*\"high\"'),\n",
            " (3,\n",
            "  '0.054*\"year\" + 0.043*\"change\" + 0.037*\"planet\" + 0.031*\"science\" + '\n",
            "  '0.029*\"earth\" + 0.026*\"man\" + 0.024*\"time\" + 0.024*\"give\" + 0.024*\"back\" + '\n",
            "  '0.024*\"come\"')]\n"
          ],
          "name": "stdout"
        }
      ]
    },
    {
      "cell_type": "markdown",
      "metadata": {
        "id": "Juabu-awTpN7",
        "colab_type": "text"
      },
      "source": [
        "### Visual representation\n",
        "\n",
        "Each blue circle represents a topic. The larger the bubble, the more prevalent the topic.\n",
        "\n",
        "Relatively big, non-overlapping bubbles scattered throughout the chart are desirable.\n",
        "\n",
        "By decreasing the value of lamda, more weight is put on the ratio of frequency given the topic to overall frequency of the word."
      ]
    },
    {
      "cell_type": "code",
      "metadata": {
        "id": "5cRGz_MdT5Pb",
        "colab_type": "code",
        "colab": {
          "base_uri": "https://localhost:8080/",
          "height": 586
        },
        "outputId": "ee13c1e6-09ef-44bb-a0b1-97804c89ed46"
      },
      "source": [
        "!pip3 install pyLDAvis"
      ],
      "execution_count": null,
      "outputs": [
        {
          "output_type": "stream",
          "text": [
            "Collecting pyLDAvis\n",
            "\u001b[?25l  Downloading https://files.pythonhosted.org/packages/a5/3a/af82e070a8a96e13217c8f362f9a73e82d61ac8fff3a2561946a97f96266/pyLDAvis-2.1.2.tar.gz (1.6MB)\n",
            "\u001b[K     |████████████████████████████████| 1.6MB 2.8MB/s \n",
            "\u001b[?25hRequirement already satisfied: wheel>=0.23.0 in /usr/local/lib/python3.6/dist-packages (from pyLDAvis) (0.34.2)\n",
            "Requirement already satisfied: numpy>=1.9.2 in /usr/local/lib/python3.6/dist-packages (from pyLDAvis) (1.18.5)\n",
            "Requirement already satisfied: scipy>=0.18.0 in /usr/local/lib/python3.6/dist-packages (from pyLDAvis) (1.4.1)\n",
            "Requirement already satisfied: pandas>=0.17.0 in /usr/local/lib/python3.6/dist-packages (from pyLDAvis) (1.0.5)\n",
            "Requirement already satisfied: joblib>=0.8.4 in /usr/local/lib/python3.6/dist-packages (from pyLDAvis) (0.16.0)\n",
            "Requirement already satisfied: jinja2>=2.7.2 in /usr/local/lib/python3.6/dist-packages (from pyLDAvis) (2.11.2)\n",
            "Requirement already satisfied: numexpr in /usr/local/lib/python3.6/dist-packages (from pyLDAvis) (2.7.1)\n",
            "Requirement already satisfied: pytest in /usr/local/lib/python3.6/dist-packages (from pyLDAvis) (3.6.4)\n",
            "Requirement already satisfied: future in /usr/local/lib/python3.6/dist-packages (from pyLDAvis) (0.16.0)\n",
            "Collecting funcy\n",
            "\u001b[?25l  Downloading https://files.pythonhosted.org/packages/ce/4b/6ffa76544e46614123de31574ad95758c421aae391a1764921b8a81e1eae/funcy-1.14.tar.gz (548kB)\n",
            "\u001b[K     |████████████████████████████████| 552kB 16.9MB/s \n",
            "\u001b[?25hRequirement already satisfied: python-dateutil>=2.6.1 in /usr/local/lib/python3.6/dist-packages (from pandas>=0.17.0->pyLDAvis) (2.8.1)\n",
            "Requirement already satisfied: pytz>=2017.2 in /usr/local/lib/python3.6/dist-packages (from pandas>=0.17.0->pyLDAvis) (2018.9)\n",
            "Requirement already satisfied: MarkupSafe>=0.23 in /usr/local/lib/python3.6/dist-packages (from jinja2>=2.7.2->pyLDAvis) (1.1.1)\n",
            "Requirement already satisfied: setuptools in /usr/local/lib/python3.6/dist-packages (from pytest->pyLDAvis) (49.2.0)\n",
            "Requirement already satisfied: more-itertools>=4.0.0 in /usr/local/lib/python3.6/dist-packages (from pytest->pyLDAvis) (8.4.0)\n",
            "Requirement already satisfied: six>=1.10.0 in /usr/local/lib/python3.6/dist-packages (from pytest->pyLDAvis) (1.15.0)\n",
            "Requirement already satisfied: py>=1.5.0 in /usr/local/lib/python3.6/dist-packages (from pytest->pyLDAvis) (1.9.0)\n",
            "Requirement already satisfied: atomicwrites>=1.0 in /usr/local/lib/python3.6/dist-packages (from pytest->pyLDAvis) (1.4.0)\n",
            "Requirement already satisfied: attrs>=17.4.0 in /usr/local/lib/python3.6/dist-packages (from pytest->pyLDAvis) (19.3.0)\n",
            "Requirement already satisfied: pluggy<0.8,>=0.5 in /usr/local/lib/python3.6/dist-packages (from pytest->pyLDAvis) (0.7.1)\n",
            "Building wheels for collected packages: pyLDAvis, funcy\n",
            "  Building wheel for pyLDAvis (setup.py) ... \u001b[?25l\u001b[?25hdone\n",
            "  Created wheel for pyLDAvis: filename=pyLDAvis-2.1.2-py2.py3-none-any.whl size=97711 sha256=ba5e79493b0945cec98409b2ff0b6713d7a8d8621d0af47b3fe0e79a6bcdacf9\n",
            "  Stored in directory: /root/.cache/pip/wheels/98/71/24/513a99e58bb6b8465bae4d2d5e9dba8f0bef8179e3051ac414\n",
            "  Building wheel for funcy (setup.py) ... \u001b[?25l\u001b[?25hdone\n",
            "  Created wheel for funcy: filename=funcy-1.14-py2.py3-none-any.whl size=32042 sha256=3b2e516420c835f1a6d8fb9fd7717bb5777d063a69204e873be4659cbbe78a17\n",
            "  Stored in directory: /root/.cache/pip/wheels/20/5a/d8/1d875df03deae6f178dfdf70238cca33f948ef8a6f5209f2eb\n",
            "Successfully built pyLDAvis funcy\n",
            "Installing collected packages: funcy, pyLDAvis\n",
            "Successfully installed funcy-1.14 pyLDAvis-2.1.2\n"
          ],
          "name": "stdout"
        }
      ]
    },
    {
      "cell_type": "code",
      "metadata": {
        "id": "US7ORk4aTzRI",
        "colab_type": "code",
        "colab": {
          "base_uri": "https://localhost:8080/",
          "height": 861
        },
        "outputId": "28d398f7-638a-4fca-e226-5c19c0015d88"
      },
      "source": [
        "import pyLDAvis.gensim\n",
        "import pickle \n",
        "import pyLDAvis\n",
        "\n",
        "pyLDAvis.enable_notebook()\n",
        "\n",
        "LDAvis_prepared = pyLDAvis.gensim.prepare(tuned_lda_model, corpus, id2word)\n",
        "\n",
        "LDAvis_prepared"
      ],
      "execution_count": null,
      "outputs": [
        {
          "output_type": "execute_result",
          "data": {
            "text/html": [
              "\n",
              "<link rel=\"stylesheet\" type=\"text/css\" href=\"https://cdn.rawgit.com/bmabey/pyLDAvis/files/ldavis.v1.0.0.css\">\n",
              "\n",
              "\n",
              "<div id=\"ldavis_el100140406364794336528171351\"></div>\n",
              "<script type=\"text/javascript\">\n",
              "\n",
              "var ldavis_el100140406364794336528171351_data = {\"mdsDat\": {\"x\": [0.18822652100210094, 0.29067007969179776, -0.3126096681184374, -0.16628693257546137], \"y\": [0.07082164692120126, -0.1377351409805495, -0.2585504687853819, 0.3254639628447302], \"topics\": [1, 2, 3, 4], \"cluster\": [1, 1, 1, 1], \"Freq\": [46.073158264160156, 20.792049407958984, 18.594707489013672, 14.540081024169922]}, \"tinfo\": {\"Term\": [\"water\", \"ice\", \"level\", \"sea\", \"make\", \"go\", \"melt\", \"rise\", \"year\", \"would\", \"take\", \"say\", \"people\", \"change\", \"planet\", \"science\", \"lot\", \"ocean\", \"think\", \"land\", \"right\", \"world\", \"get\", \"know\", \"many\", \"come\", \"use\", \"earth\", \"put\", \"man\", \"go\", \"think\", \"world\", \"get\", \"know\", \"live\", \"look\", \"happen\", \"see\", \"country\", \"city\", \"show\", \"bad\", \"still\", \"good\", \"flood\", \"really\", \"lol\", \"move\", \"fuck\", \"want\", \"need\", \"big\", \"could\", \"well\", \"state\", \"part\", \"maybe\", \"little\", \"die\", \"even\", \"place\", \"would\", \"video\", \"much\", \"people\", \"thing\", \"also\", \"water\", \"ice\", \"level\", \"sea\", \"melt\", \"rise\", \"ocean\", \"high\", \"human\", \"foot\", \"build\", \"whole\", \"glass\", \"matter\", \"surface\", \"example\", \"low\", \"sit\", \"top\", \"increase\", \"pole\", \"glacier\", \"coastal\", \"fill\", \"river\", \"fresh\", \"plant\", \"side\", \"cube\", \"dumb\", \"land\", \"would\", \"temperature\", \"change\", \"earth\", \"already\", \"much\", \"make\", \"take\", \"lot\", \"right\", \"many\", \"use\", \"put\", \"area\", \"care\", \"let\", \"actually\", \"cause\", \"tell\", \"stupid\", \"stop\", \"comment\", \"canadian\", \"keep\", \"less\", \"true\", \"thank\", \"leave\", \"last\", \"money\", \"rate\", \"guy\", \"question\", \"global_e\", \"source\", \"scientific\", \"say\", \"people\", \"already\", \"year\", \"thing\", \"planet\", \"science\", \"man\", \"give\", \"back\", \"climate\", \"age\", \"call\", \"watch\", \"first\", \"real\", \"end\", \"believe\", \"help\", \"basically\", \"old\", \"turn\", \"always\", \"cap\", \"play\", \"stay\", \"close\", \"cool\", \"lie\", \"nice\", \"island\", \"next\", \"prove\", \"cover\", \"scientist\", \"change\", \"year\", \"earth\", \"time\", \"come\", \"fact\", \"say\", \"never\"], \"Freq\": [5061.0, 4067.0, 2865.0, 2327.0, 2151.0, 4071.0, 1817.0, 1749.0, 2036.0, 5386.0, 1387.0, 1978.0, 2630.0, 1492.0, 950.0, 807.0, 919.0, 979.0, 1924.0, 1419.0, 867.0, 1869.0, 1833.0, 1822.0, 829.0, 1209.0, 791.0, 1687.0, 777.0, 668.0, 4071.92041015625, 1924.296142578125, 1869.5311279296875, 1832.9674072265625, 1822.315185546875, 1635.2147216796875, 1557.6810302734375, 1544.4967041015625, 1458.1182861328125, 1442.4757080078125, 1386.0457763671875, 1254.373046875, 1165.341552734375, 1050.6346435546875, 887.881103515625, 871.2208862304688, 831.4163818359375, 799.8809204101562, 765.4280395507812, 748.6805419921875, 737.9998168945312, 719.9614868164062, 686.1917114257812, 676.3981323242188, 660.4472045898438, 599.6553344726562, 566.4545288085938, 533.6318359375, 530.6506958007812, 516.4306640625, 1361.4056396484375, 704.2717895507812, 3679.061279296875, 1138.9588623046875, 1132.45068359375, 1303.189697265625, 735.8828735351562, 697.1591186523438, 5061.125, 4067.114990234375, 2865.92626953125, 2327.575927734375, 1817.4136962890625, 1749.6773681640625, 979.588134765625, 771.656982421875, 696.2020263671875, 478.0743408203125, 401.3829040527344, 378.9953918457031, 363.95703125, 336.4565734863281, 332.880126953125, 327.57318115234375, 317.7690734863281, 277.3756408691406, 262.21392822265625, 261.2589111328125, 256.65850830078125, 254.57676696777344, 243.6234130859375, 242.2686004638672, 241.32960510253906, 234.58421325683594, 231.2746124267578, 230.00682067871094, 226.13143920898438, 203.5101776123047, 1039.1915283203125, 1707.7130126953125, 278.03753662109375, 373.5246887207031, 339.5882568359375, 278.2065734863281, 262.1584167480469, 2151.721923828125, 1387.1690673828125, 919.7920532226562, 867.0, 829.8409423828125, 791.2128295898438, 777.3472290039062, 734.3462524414062, 710.511962890625, 672.2686767578125, 656.8328857421875, 589.74658203125, 589.4085693359375, 588.8017578125, 551.185302734375, 499.21142578125, 491.70843505859375, 469.6181335449219, 454.2304382324219, 446.671630859375, 438.2208557128906, 410.2948303222656, 396.81103515625, 387.4910888671875, 354.0424499511719, 300.6282958984375, 294.6386413574219, 294.23028564453125, 282.7637634277344, 272.16729736328125, 1518.2442626953125, 1327.530517578125, 450.0915832519531, 643.7363891601562, 369.7291564941406, 950.8104248046875, 807.520751953125, 668.244384765625, 626.8649291992188, 622.9309692382812, 526.051513671875, 475.6291198730469, 434.862548828125, 434.40045166015625, 404.5061340332031, 393.57989501953125, 389.57769775390625, 387.7178955078125, 367.44915771484375, 345.9981384277344, 340.4042663574219, 331.36480712890625, 320.88775634765625, 302.4297180175781, 297.40045166015625, 296.2746276855469, 295.94293212890625, 291.3736267089844, 291.253173828125, 285.5482482910156, 252.81430053710938, 251.6352996826172, 243.39837646484375, 242.5587921142578, 241.87486267089844, 1118.929443359375, 1392.8096923828125, 766.2574462890625, 634.59716796875, 619.718505859375, 385.8120422363281, 460.1495666503906, 323.48907470703125], \"Total\": [5061.0, 4067.0, 2865.0, 2327.0, 2151.0, 4071.0, 1817.0, 1749.0, 2036.0, 5386.0, 1387.0, 1978.0, 2630.0, 1492.0, 950.0, 807.0, 919.0, 979.0, 1924.0, 1419.0, 867.0, 1869.0, 1833.0, 1822.0, 829.0, 1209.0, 791.0, 1687.0, 777.0, 668.0, 4071.964599609375, 1924.3406982421875, 1869.57568359375, 1833.011962890625, 1822.3597412109375, 1635.25927734375, 1557.7255859375, 1544.541259765625, 1458.162841796875, 1442.520263671875, 1386.09033203125, 1254.4176025390625, 1165.3861083984375, 1050.67919921875, 887.9256591796875, 871.2654418945312, 831.4609375, 799.9254760742188, 765.4725952148438, 748.72509765625, 738.0443725585938, 720.0060424804688, 686.2362670898438, 676.4426879882812, 660.4917602539062, 599.6998901367188, 566.4990844726562, 533.6763916015625, 530.6952514648438, 516.4752197265625, 1534.82275390625, 737.4889526367188, 5386.80419921875, 1349.7496337890625, 1394.63916015625, 2630.75, 1105.641845703125, 881.9242553710938, 5061.16748046875, 4067.157470703125, 2865.96875, 2327.618408203125, 1817.4564208984375, 1749.7200927734375, 979.6307983398438, 771.6996459960938, 696.2446899414062, 478.1169738769531, 401.425537109375, 379.03802490234375, 363.9996643066406, 336.49920654296875, 332.9227600097656, 327.6158142089844, 317.81170654296875, 277.41827392578125, 262.2565612792969, 261.3015441894531, 256.7011413574219, 254.6194305419922, 243.66607666015625, 242.31126403808594, 241.3722686767578, 234.6268768310547, 231.31727600097656, 230.0494842529297, 226.17410278320312, 203.55284118652344, 1419.2437744140625, 5386.80419921875, 465.4986877441406, 1492.4814453125, 1687.308349609375, 728.3260498046875, 1394.63916015625, 2151.76416015625, 1387.2115478515625, 919.83447265625, 867.0424194335938, 829.8833618164062, 791.2552490234375, 777.3896484375, 734.388671875, 710.5543823242188, 672.3110961914062, 656.8753051757812, 589.7890014648438, 589.4509887695312, 588.8441772460938, 551.2277221679688, 499.25384521484375, 491.7508544921875, 469.6605529785156, 454.2728576660156, 446.71405029296875, 438.2632751464844, 410.3372497558594, 396.85345458984375, 387.53350830078125, 354.0848693847656, 300.67071533203125, 294.6810607910156, 294.272705078125, 282.8061828613281, 272.209716796875, 1978.4210205078125, 2630.75, 728.3260498046875, 2036.5732421875, 1105.641845703125, 950.8523559570312, 807.5626831054688, 668.2863159179688, 626.9068603515625, 622.972900390625, 526.0934448242188, 475.6710205078125, 434.9044494628906, 434.4423522949219, 404.54803466796875, 393.6217956542969, 389.6195983886719, 387.7597961425781, 367.4910583496094, 346.0400390625, 340.4461669921875, 331.4067077636719, 320.9296569824219, 302.47161865234375, 297.4423522949219, 296.3165283203125, 295.9848327636719, 291.41552734375, 291.2950744628906, 285.59014892578125, 252.85621643066406, 251.67721557617188, 243.44029235839844, 242.6007080078125, 241.91677856445312, 1492.4814453125, 2036.5732421875, 1687.308349609375, 1257.0059814453125, 1209.14208984375, 648.3701171875, 1978.4210205078125, 592.3474731445312], \"Category\": [\"Default\", \"Default\", \"Default\", \"Default\", \"Default\", \"Default\", \"Default\", \"Default\", \"Default\", \"Default\", \"Default\", \"Default\", \"Default\", \"Default\", \"Default\", \"Default\", \"Default\", \"Default\", \"Default\", \"Default\", \"Default\", \"Default\", \"Default\", \"Default\", \"Default\", \"Default\", \"Default\", \"Default\", \"Default\", \"Default\", \"Topic1\", \"Topic1\", \"Topic1\", \"Topic1\", \"Topic1\", \"Topic1\", \"Topic1\", \"Topic1\", \"Topic1\", \"Topic1\", \"Topic1\", \"Topic1\", \"Topic1\", \"Topic1\", \"Topic1\", \"Topic1\", \"Topic1\", \"Topic1\", \"Topic1\", \"Topic1\", \"Topic1\", \"Topic1\", \"Topic1\", \"Topic1\", \"Topic1\", \"Topic1\", \"Topic1\", \"Topic1\", \"Topic1\", \"Topic1\", \"Topic1\", \"Topic1\", \"Topic1\", \"Topic1\", \"Topic1\", \"Topic1\", \"Topic1\", \"Topic1\", \"Topic2\", \"Topic2\", \"Topic2\", \"Topic2\", \"Topic2\", \"Topic2\", \"Topic2\", \"Topic2\", \"Topic2\", \"Topic2\", \"Topic2\", \"Topic2\", \"Topic2\", \"Topic2\", \"Topic2\", \"Topic2\", \"Topic2\", \"Topic2\", \"Topic2\", \"Topic2\", \"Topic2\", \"Topic2\", \"Topic2\", \"Topic2\", \"Topic2\", \"Topic2\", \"Topic2\", \"Topic2\", \"Topic2\", \"Topic2\", \"Topic2\", \"Topic2\", \"Topic2\", \"Topic2\", \"Topic2\", \"Topic2\", \"Topic2\", \"Topic3\", \"Topic3\", \"Topic3\", \"Topic3\", \"Topic3\", \"Topic3\", \"Topic3\", \"Topic3\", \"Topic3\", \"Topic3\", \"Topic3\", \"Topic3\", \"Topic3\", \"Topic3\", \"Topic3\", \"Topic3\", \"Topic3\", \"Topic3\", \"Topic3\", \"Topic3\", \"Topic3\", \"Topic3\", \"Topic3\", \"Topic3\", \"Topic3\", \"Topic3\", \"Topic3\", \"Topic3\", \"Topic3\", \"Topic3\", \"Topic3\", \"Topic3\", \"Topic3\", \"Topic3\", \"Topic3\", \"Topic4\", \"Topic4\", \"Topic4\", \"Topic4\", \"Topic4\", \"Topic4\", \"Topic4\", \"Topic4\", \"Topic4\", \"Topic4\", \"Topic4\", \"Topic4\", \"Topic4\", \"Topic4\", \"Topic4\", \"Topic4\", \"Topic4\", \"Topic4\", \"Topic4\", \"Topic4\", \"Topic4\", \"Topic4\", \"Topic4\", \"Topic4\", \"Topic4\", \"Topic4\", \"Topic4\", \"Topic4\", \"Topic4\", \"Topic4\", \"Topic4\", \"Topic4\", \"Topic4\", \"Topic4\", \"Topic4\", \"Topic4\", \"Topic4\", \"Topic4\"], \"logprob\": [30.0, 29.0, 28.0, 27.0, 26.0, 25.0, 24.0, 23.0, 22.0, 21.0, 20.0, 19.0, 18.0, 17.0, 16.0, 15.0, 14.0, 13.0, 12.0, 11.0, 10.0, 9.0, 8.0, 7.0, 6.0, 5.0, 4.0, 3.0, 2.0, 1.0, -3.006500005722046, -3.7560999393463135, -3.7850000858306885, -3.8046998977661133, -3.8106000423431396, -3.9189000129699707, -3.9674999713897705, -3.9760000705718994, -4.0335001945495605, -4.044300079345703, -4.084199905395508, -4.184000015258789, -4.257599830627441, -4.361299991607666, -4.529600143432617, -4.548500061035156, -4.595300197601318, -4.633999824523926, -4.677999973297119, -4.700099945068359, -4.7144999504089355, -4.739200115203857, -4.787300109863281, -4.801599979400635, -4.825500011444092, -4.922100067138672, -4.979000091552734, -5.038700103759766, -5.044300079345703, -5.071499824523926, -4.102099895477295, -4.761199951171875, -3.1080000400543213, -4.2804999351501465, -4.286300182342529, -4.1458001136779785, -4.717299938201904, -4.771399974822998, -1.993399977684021, -2.212100028991699, -2.5620999336242676, -2.77020001411438, -3.0176000595092773, -3.0555999279022217, -3.6356000900268555, -3.8742001056671143, -3.977099895477295, -4.353000164031982, -4.5278000831604, -4.58519983291626, -4.625699996948242, -4.7042999267578125, -4.715000152587891, -4.730999946594238, -4.76140022277832, -4.89739990234375, -4.95359992980957, -4.957200050354004, -4.974999904632568, -4.9832000732421875, -5.027100086212158, -5.032700061798096, -5.036600112915039, -5.064899921417236, -5.079100131988525, -5.08459997177124, -5.101600170135498, -5.206999778747559, -3.5766000747680664, -3.0797998905181885, -4.894999980926514, -4.599800109863281, -4.695000171661377, -4.894400119781494, -4.953800201416016, -2.736999988555908, -3.1760001182556152, -3.586899995803833, -3.6459999084472656, -3.6898000240325928, -3.737499952316284, -3.755199909210205, -3.8120999336242676, -3.845099925994873, -3.900399923324585, -3.9235999584198, -4.031400203704834, -4.031899929046631, -4.0329999923706055, -4.098999977111816, -4.197999954223633, -4.213200092315674, -4.259099960327148, -4.292500019073486, -4.309199810028076, -4.3282999992370605, -4.394199848175049, -4.427599906921387, -4.451399803161621, -4.541600227355957, -4.7052001953125, -4.725299835205078, -4.7266998291015625, -4.76639986038208, -4.804599761962891, -3.0857999324798584, -3.2200000286102295, -4.301599979400635, -3.9437999725341797, -4.498300075531006, -3.307800054550171, -3.471100091934204, -3.660399913787842, -3.724400043487549, -3.7307000160217285, -3.8996999263763428, -4.000500202178955, -4.090099811553955, -4.091100215911865, -4.162399768829346, -4.189799785614014, -4.199999809265137, -4.204800128936768, -4.258500099182129, -4.318699836730957, -4.335000038146973, -4.3618998527526855, -4.394000053405762, -4.453199863433838, -4.46999979019165, -4.473800182342529, -4.474899768829346, -4.490499973297119, -4.490900039672852, -4.510700225830078, -4.632400035858154, -4.6371002197265625, -4.670400142669678, -4.673799991607666, -4.676700115203857, -3.1449999809265137, -2.9260001182556152, -3.5236001014709473, -3.712100028991699, -3.73580002784729, -4.209700107574463, -4.0335001945495605, -4.385900020599365], \"loglift\": [30.0, 29.0, 28.0, 27.0, 26.0, 25.0, 24.0, 23.0, 22.0, 21.0, 20.0, 19.0, 18.0, 17.0, 16.0, 15.0, 14.0, 13.0, 12.0, 11.0, 10.0, 9.0, 8.0, 7.0, 6.0, 5.0, 4.0, 3.0, 2.0, 1.0, 0.7749000191688538, 0.7749000191688538, 0.7749000191688538, 0.7749000191688538, 0.7749000191688538, 0.7749000191688538, 0.7749000191688538, 0.7749000191688538, 0.7749000191688538, 0.7749000191688538, 0.7749000191688538, 0.7749000191688538, 0.7749000191688538, 0.7749000191688538, 0.7749000191688538, 0.7749000191688538, 0.7749000191688538, 0.7749000191688538, 0.7749000191688538, 0.7749000191688538, 0.7749000191688538, 0.7749000191688538, 0.7749000191688538, 0.7749000191688538, 0.7749000191688538, 0.7749000191688538, 0.7749000191688538, 0.7749000191688538, 0.7749000191688538, 0.7749000191688538, 0.6549999713897705, 0.7289000153541565, 0.3935999870300293, 0.6050999760627747, 0.5666999816894531, 0.07249999791383743, 0.3677999973297119, 0.5397999882698059, 1.5706000328063965, 1.5706000328063965, 1.5706000328063965, 1.5706000328063965, 1.5706000328063965, 1.5706000328063965, 1.5706000328063965, 1.5705000162124634, 1.5705000162124634, 1.5705000162124634, 1.5705000162124634, 1.5705000162124634, 1.5705000162124634, 1.5705000162124634, 1.5705000162124634, 1.5705000162124634, 1.5705000162124634, 1.5703999996185303, 1.5703999996185303, 1.5703999996185303, 1.5703999996185303, 1.5703999996185303, 1.5703999996185303, 1.5703999996185303, 1.5703999996185303, 1.5703999996185303, 1.5703999996185303, 1.5703999996185303, 1.5703999996185303, 1.5703999996185303, 1.2589000463485718, 0.42179998755455017, 1.0551999807357788, 0.18539999425411224, -0.032600000500679016, 0.6082000136375427, -0.10080000013113022, 1.6822999715805054, 1.6822999715805054, 1.6821999549865723, 1.6821999549865723, 1.6821999549865723, 1.6821999549865723, 1.6821999549865723, 1.6821999549865723, 1.6821999549865723, 1.6821999549865723, 1.6821999549865723, 1.6821999549865723, 1.6821999549865723, 1.6821999549865723, 1.6821999549865723, 1.6821999549865723, 1.6821999549865723, 1.6821999549865723, 1.6821999549865723, 1.6821999549865723, 1.6821999549865723, 1.6821999549865723, 1.6821999549865723, 1.6821999549865723, 1.6821999549865723, 1.6821999549865723, 1.6821000576019287, 1.6821000576019287, 1.6821000576019287, 1.6821000576019287, 1.4175000190734863, 0.9983000159263611, 1.2009999752044678, 0.5306000113487244, 0.586899995803833, 1.9282000064849854, 1.9282000064849854, 1.9282000064849854, 1.9282000064849854, 1.9282000064849854, 1.9282000064849854, 1.9282000064849854, 1.9282000064849854, 1.9282000064849854, 1.9282000064849854, 1.9282000064849854, 1.9282000064849854, 1.9282000064849854, 1.9280999898910522, 1.9280999898910522, 1.9280999898910522, 1.9280999898910522, 1.9280999898910522, 1.9280999898910522, 1.9280999898910522, 1.9280999898910522, 1.9280999898910522, 1.9280999898910522, 1.9280999898910522, 1.9280999898910522, 1.9280999898910522, 1.9280999898910522, 1.9280999898910522, 1.9280999898910522, 1.9280999898910522, 1.6402000188827515, 1.54830002784729, 1.1389000415802002, 1.2447999715805054, 1.2598999738693237, 1.40910005569458, 0.4697999954223633, 1.3233000040054321]}, \"token.table\": {\"Topic\": [3, 4, 2, 3, 1, 2, 4, 4, 3, 4, 1, 4, 4, 1, 2, 4, 3, 4, 3, 3, 2, 4, 1, 4, 4, 2, 1, 4, 3, 4, 1, 1, 4, 2, 1, 2, 1, 2, 4, 4, 1, 2, 2, 3, 4, 2, 4, 1, 2, 2, 1, 1, 4, 2, 2, 3, 1, 1, 3, 1, 4, 2, 2, 2, 2, 4, 3, 1, 1, 2, 3, 3, 3, 3, 2, 4, 1, 1, 1, 1, 3, 2, 3, 4, 3, 2, 1, 2, 3, 1, 1, 2, 1, 1, 4, 4, 4, 2, 4, 1, 1, 3, 1, 2, 4, 2, 4, 2, 4, 3, 3, 3, 4, 1, 3, 2, 2, 3, 4, 4, 3, 4, 2, 1, 1, 2, 2, 3, 1, 4, 1, 3, 3, 2, 3, 3, 2, 4, 3, 1, 3, 1, 1, 3, 4, 2, 3, 4, 3, 1, 4, 1, 4, 2, 1, 2, 1, 1, 2, 3, 4], \"Freq\": [1.0001897811889648, 1.0006916522979736, 0.3816971778869629, 0.6178551316261292, 0.7903172969818115, 0.20069751143455505, 0.007937189191579819, 1.0002192258834839, 0.9994707703590393, 1.000043511390686, 0.9996686577796936, 0.999884307384491, 1.0006194114685059, 0.9996557235717773, 0.9989399313926697, 1.000219702720642, 1.0005066394805908, 0.9984408020973206, 1.0006271600723267, 1.000357747077942, 0.25058937072753906, 0.7497580647468567, 0.9999348521232605, 0.9998223781585693, 1.0000512599945068, 1.0013704299926758, 0.48712223768234253, 0.5127602219581604, 0.9994915723800659, 0.9985740780830383, 0.9993455410003662, 0.9996393322944641, 1.0016459226608276, 0.9992302060127258, 0.9990798830986023, 1.0021967887878418, 0.3443354070186615, 0.20150436460971832, 0.4539774954319, 1.000976324081421, 0.8867473602294922, 0.11271660029888153, 1.001172661781311, 0.40563252568244934, 0.5953390002250671, 0.9987154603004456, 1.00111722946167, 0.999695360660553, 0.999755322933197, 1.0015902519226074, 1.0003671646118164, 0.9999935030937195, 1.0001485347747803, 1.0014946460723877, 1.0000009536743164, 0.9990732669830322, 1.0000087022781372, 1.0000836849212646, 1.001095175743103, 0.9996495842933655, 0.9986637830734253, 1.0003892183303833, 0.9996485710144043, 0.999961256980896, 0.9988459944725037, 1.0005686283111572, 1.0007227659225464, 0.9998025894165039, 0.26774823665618896, 0.7320799827575684, 1.0003693103790283, 0.9991781115531921, 0.9993993639945984, 0.9995372891426086, 1.0000108480453491, 0.9989870190620422, 1.0005742311477661, 0.9998414516448975, 1.0000932216644287, 1.000176191329956, 1.0001800060272217, 1.0005924701690674, 1.0001095533370972, 0.9995715618133545, 1.0001405477523804, 0.9985164999961853, 1.0006064176559448, 0.9997488856315613, 0.9986233115196228, 0.9993826150894165, 0.811679482460022, 0.18786221742630005, 0.9999915957450867, 0.4541253447532654, 0.5452880263328552, 1.0012825727462769, 1.0014351606369019, 1.00037682056427, 0.9986894726753235, 0.999118983745575, 0.49529603123664856, 0.5047990083694458, 0.9545905590057373, 0.044746432453393936, 1.0001553297042847, 0.9986283779144287, 0.9985128045082092, 1.001164197921753, 0.9981913566589355, 0.9994987845420837, 1.0010823011398315, 0.9997603297233582, 1.0009608268737793, 0.9994456171989441, 0.9999510645866394, 1.0001599788665771, 0.998457670211792, 0.7672785520553589, 0.23250864446163177, 1.0005415678024292, 0.9992295503616333, 1.0003440380096436, 1.0001639127731323, 0.9998883008956909, 0.9996671080589294, 0.9997848868370056, 0.9984922409057617, 1.0006853342056274, 1.0005004405975342, 0.9989317655563354, 1.0003052949905396, 0.9995868802070618, 1.0002646446228027, 1.0002319812774658, 0.9998474717140198, 0.9992349147796631, 0.5972089767456055, 0.40171971917152405, 0.9993993043899536, 0.6656767129898071, 0.3346472382545471, 0.9998229742050171, 0.29912346601486206, 0.19649866223335266, 0.505168616771698, 0.9990217089653015, 1.0006401538848877, 0.9987727999687195, 0.9996774196624756, 0.8438602089881897, 0.15632528066635132, 0.9999398589134216, 0.998981773853302, 0.9999669194221497, 0.9992554783821106, 0.999899685382843, 1.0002269744873047, 0.6829652190208435, 0.3170711100101471, 0.31621745228767395, 0.6839920878410339], \"Term\": [\"actually\", \"age\", \"already\", \"already\", \"also\", \"also\", \"also\", \"always\", \"area\", \"back\", \"bad\", \"basically\", \"believe\", \"big\", \"build\", \"call\", \"canadian\", \"cap\", \"care\", \"cause\", \"change\", \"change\", \"city\", \"climate\", \"close\", \"coastal\", \"come\", \"come\", \"comment\", \"cool\", \"could\", \"country\", \"cover\", \"cube\", \"die\", \"dumb\", \"earth\", \"earth\", \"earth\", \"end\", \"even\", \"even\", \"example\", \"fact\", \"fact\", \"fill\", \"first\", \"flood\", \"foot\", \"fresh\", \"fuck\", \"get\", \"give\", \"glacier\", \"glass\", \"global_e\", \"go\", \"good\", \"guy\", \"happen\", \"help\", \"high\", \"human\", \"ice\", \"increase\", \"island\", \"keep\", \"know\", \"land\", \"land\", \"last\", \"leave\", \"less\", \"let\", \"level\", \"lie\", \"little\", \"live\", \"lol\", \"look\", \"lot\", \"low\", \"make\", \"man\", \"many\", \"matter\", \"maybe\", \"melt\", \"money\", \"move\", \"much\", \"much\", \"need\", \"never\", \"never\", \"next\", \"nice\", \"ocean\", \"old\", \"part\", \"people\", \"people\", \"place\", \"place\", \"planet\", \"plant\", \"play\", \"pole\", \"prove\", \"put\", \"question\", \"rate\", \"real\", \"really\", \"right\", \"rise\", \"river\", \"say\", \"say\", \"science\", \"scientific\", \"scientist\", \"sea\", \"see\", \"show\", \"side\", \"sit\", \"source\", \"state\", \"stay\", \"still\", \"stop\", \"stupid\", \"surface\", \"take\", \"tell\", \"temperature\", \"temperature\", \"thank\", \"thing\", \"thing\", \"think\", \"time\", \"time\", \"time\", \"top\", \"true\", \"turn\", \"use\", \"video\", \"video\", \"want\", \"watch\", \"water\", \"well\", \"whole\", \"world\", \"would\", \"would\", \"year\", \"year\"]}, \"R\": 30, \"lambda.step\": 0.01, \"plot.opts\": {\"xlab\": \"PC1\", \"ylab\": \"PC2\"}, \"topic.order\": [1, 3, 2, 4]};\n",
              "\n",
              "function LDAvis_load_lib(url, callback){\n",
              "  var s = document.createElement('script');\n",
              "  s.src = url;\n",
              "  s.async = true;\n",
              "  s.onreadystatechange = s.onload = callback;\n",
              "  s.onerror = function(){console.warn(\"failed to load library \" + url);};\n",
              "  document.getElementsByTagName(\"head\")[0].appendChild(s);\n",
              "}\n",
              "\n",
              "if(typeof(LDAvis) !== \"undefined\"){\n",
              "   // already loaded: just create the visualization\n",
              "   !function(LDAvis){\n",
              "       new LDAvis(\"#\" + \"ldavis_el100140406364794336528171351\", ldavis_el100140406364794336528171351_data);\n",
              "   }(LDAvis);\n",
              "}else if(typeof define === \"function\" && define.amd){\n",
              "   // require.js is available: use it to load d3/LDAvis\n",
              "   require.config({paths: {d3: \"https://cdnjs.cloudflare.com/ajax/libs/d3/3.5.5/d3.min\"}});\n",
              "   require([\"d3\"], function(d3){\n",
              "      window.d3 = d3;\n",
              "      LDAvis_load_lib(\"https://cdn.rawgit.com/bmabey/pyLDAvis/files/ldavis.v1.0.0.js\", function(){\n",
              "        new LDAvis(\"#\" + \"ldavis_el100140406364794336528171351\", ldavis_el100140406364794336528171351_data);\n",
              "      });\n",
              "    });\n",
              "}else{\n",
              "    // require.js not available: dynamically load d3 & LDAvis\n",
              "    LDAvis_load_lib(\"https://cdnjs.cloudflare.com/ajax/libs/d3/3.5.5/d3.min.js\", function(){\n",
              "         LDAvis_load_lib(\"https://cdn.rawgit.com/bmabey/pyLDAvis/files/ldavis.v1.0.0.js\", function(){\n",
              "                 new LDAvis(\"#\" + \"ldavis_el100140406364794336528171351\", ldavis_el100140406364794336528171351_data);\n",
              "            })\n",
              "         });\n",
              "}\n",
              "</script>"
            ],
            "text/plain": [
              "PreparedData(topic_coordinates=              x         y  topics  cluster       Freq\n",
              "topic                                                \n",
              "0      0.188227  0.070822       1        1  46.073158\n",
              "2      0.290670 -0.137735       2        1  20.792049\n",
              "1     -0.312610 -0.258550       3        1  18.594707\n",
              "3     -0.166287  0.325464       4        1  14.540081, topic_info=      Term         Freq        Total Category  logprob  loglift\n",
              "51   water  5061.000000  5061.000000  Default  30.0000  30.0000\n",
              "5      ice  4067.000000  4067.000000  Default  29.0000  29.0000\n",
              "73   level  2865.000000  2865.000000  Default  28.0000  28.0000\n",
              "238    sea  2327.000000  2327.000000  Default  27.0000  27.0000\n",
              "42    make  2151.000000  2151.000000  Default  26.0000  26.0000\n",
              "..     ...          ...          ...      ...      ...      ...\n",
              "94    time   634.597168  1257.005981   Topic4  -3.7121   1.2448\n",
              "191   come   619.718506  1209.142090   Topic4  -3.7358   1.2599\n",
              "280   fact   385.812042   648.370117   Topic4  -4.2097   1.4091\n",
              "91     say   460.149567  1978.421021   Topic4  -4.0335   0.4698\n",
              "251  never   323.489075   592.347473   Topic4  -4.3859   1.3233\n",
              "\n",
              "[178 rows x 6 columns], token_table=      Topic      Freq      Term\n",
              "term                           \n",
              "81        3  1.000190  actually\n",
              "189       4  1.000692       age\n",
              "318       2  0.381697   already\n",
              "318       3  0.617855   already\n",
              "1         1  0.790317      also\n",
              "...     ...       ...       ...\n",
              "244       1  1.000227     world\n",
              "13        1  0.682965     would\n",
              "13        2  0.317071     would\n",
              "55        3  0.316217      year\n",
              "55        4  0.683992      year\n",
              "\n",
              "[161 rows x 3 columns], R=30, lambda_step=0.01, plot_opts={'xlab': 'PC1', 'ylab': 'PC2'}, topic_order=[1, 3, 2, 4])"
            ]
          },
          "metadata": {
            "tags": []
          },
          "execution_count": 30
        }
      ]
    },
    {
      "cell_type": "markdown",
      "metadata": {
        "id": "B0WEF6-tU839",
        "colab_type": "text"
      },
      "source": [
        "#### Most representative topic for each comment\n"
      ]
    },
    {
      "cell_type": "code",
      "metadata": {
        "id": "XRp0zDL6UTTB",
        "colab_type": "code",
        "colab": {
          "base_uri": "https://localhost:8080/",
          "height": 33
        },
        "outputId": "f908fbf8-e7ad-44da-f8e1-fdba6d9b584c"
      },
      "source": [
        "from tqdm import tqdm\n",
        "\n",
        "def show_comment_topics(ldamodel, corpus, documents):\n",
        "    topics_data = pd.DataFrame()\n",
        "\n",
        "    #iterate over model corpus\n",
        "    for index, row in tqdm(enumerate(ldamodel[corpus])):\n",
        "        row = sorted(row, key=lambda x: (x[1]), reverse=True)\n",
        "        \n",
        "        # Get the Dominant topic, Perc Contribution and Keywords for each document\n",
        "        for i, (topic_num, prop_topic) in enumerate(row):\n",
        "            if i == 0:  # => dominant topic\n",
        "                wp = ldamodel.show_topic(topic_num)\n",
        "                topic_keywords = \", \".join([word for word, prop in wp])\n",
        "                topics_data = topics_data.append(pd.Series([int(topic_num), round(prop_topic,4), topic_keywords]), ignore_index=True)\n",
        "            else:\n",
        "                break\n",
        "    topics_data.columns = ['Dominant_Topic', 'Perc_Contribution', 'Topic_Keywords']\n",
        "\n",
        "    # Append original comment at the end\n",
        "    contents = pd.Series(documents['text'])\n",
        "    topics_data = pd.concat([topics_data, contents], axis=1)\n",
        "    return(topics_data)\n",
        "\n",
        "data_topic_keywords = show_comment_topics(tuned_lda_model, corpus, data)"
      ],
      "execution_count": null,
      "outputs": [
        {
          "output_type": "stream",
          "text": [
            "25914it [02:12, 196.15it/s]\n"
          ],
          "name": "stderr"
        }
      ]
    },
    {
      "cell_type": "code",
      "metadata": {
        "id": "HmQX-3LAU4qc",
        "colab_type": "code",
        "colab": {
          "base_uri": "https://localhost:8080/",
          "height": 622
        },
        "outputId": "a2fee7b9-d10b-4c7f-aeb7-c536a9defd59"
      },
      "source": [
        "data_dominant_topic = data_topic_keywords.reset_index()\n",
        "data_dominant_topic.columns = ['Comment Nr', 'Dominant Topic', '% of Topic in Comment', 'Keywords', 'Comment']\n",
        "\n",
        "data_dominant_topic.loc[:, 'Dominant Topic':'Comment'].head(20)"
      ],
      "execution_count": null,
      "outputs": [
        {
          "output_type": "execute_result",
          "data": {
            "text/html": [
              "<div>\n",
              "<style scoped>\n",
              "    .dataframe tbody tr th:only-of-type {\n",
              "        vertical-align: middle;\n",
              "    }\n",
              "\n",
              "    .dataframe tbody tr th {\n",
              "        vertical-align: top;\n",
              "    }\n",
              "\n",
              "    .dataframe thead th {\n",
              "        text-align: right;\n",
              "    }\n",
              "</style>\n",
              "<table border=\"1\" class=\"dataframe\">\n",
              "  <thead>\n",
              "    <tr style=\"text-align: right;\">\n",
              "      <th></th>\n",
              "      <th>Dominant Topic</th>\n",
              "      <th>% of Topic in Comment</th>\n",
              "      <th>Keywords</th>\n",
              "      <th>Comment</th>\n",
              "    </tr>\n",
              "  </thead>\n",
              "  <tbody>\n",
              "    <tr>\n",
              "      <th>0</th>\n",
              "      <td>2.0</td>\n",
              "      <td>0.5061</td>\n",
              "      <td>water, ice, level, sea, melt, rise, would, lan...</td>\n",
              "      <td>If all the ice melts surely the tilt of the ea...</td>\n",
              "    </tr>\n",
              "    <tr>\n",
              "      <th>1</th>\n",
              "      <td>0.0</td>\n",
              "      <td>0.9128</td>\n",
              "      <td>go, would, think, world, get, know, live, look...</td>\n",
              "      <td>The scariest part of the video is the music......</td>\n",
              "    </tr>\n",
              "    <tr>\n",
              "      <th>2</th>\n",
              "      <td>0.0</td>\n",
              "      <td>0.6948</td>\n",
              "      <td>go, would, think, world, get, know, live, look...</td>\n",
              "      <td>New Zealand be like...\"are we good?\" 🤷‍♂️\\n\\n</td>\n",
              "    </tr>\n",
              "    <tr>\n",
              "      <th>3</th>\n",
              "      <td>0.0</td>\n",
              "      <td>0.8779</td>\n",
              "      <td>go, would, think, world, get, know, live, look...</td>\n",
              "      <td>Step #1: Taxes... Step #2: ???... Step #3: Uto...</td>\n",
              "    </tr>\n",
              "    <tr>\n",
              "      <th>4</th>\n",
              "      <td>0.0</td>\n",
              "      <td>0.4632</td>\n",
              "      <td>go, would, think, world, get, know, live, look...</td>\n",
              "      <td>Strange how Hudson's Bay stayed the same size....</td>\n",
              "    </tr>\n",
              "    <tr>\n",
              "      <th>5</th>\n",
              "      <td>0.0</td>\n",
              "      <td>0.3896</td>\n",
              "      <td>go, would, think, world, get, know, live, look...</td>\n",
              "      <td>Sweet I'll have ocean front property.\\n\\n</td>\n",
              "    </tr>\n",
              "    <tr>\n",
              "      <th>6</th>\n",
              "      <td>0.0</td>\n",
              "      <td>0.4632</td>\n",
              "      <td>go, would, think, world, get, know, live, look...</td>\n",
              "      <td>Brazil will lost 25% of territory 😂\\n\\n</td>\n",
              "    </tr>\n",
              "    <tr>\n",
              "      <th>7</th>\n",
              "      <td>0.0</td>\n",
              "      <td>0.5974</td>\n",
              "      <td>go, would, think, world, get, know, live, look...</td>\n",
              "      <td>Lesson learned : dont put your capitol city ne...</td>\n",
              "    </tr>\n",
              "    <tr>\n",
              "      <th>8</th>\n",
              "      <td>2.0</td>\n",
              "      <td>0.4161</td>\n",
              "      <td>water, ice, level, sea, melt, rise, would, lan...</td>\n",
              "      <td>If this was an actual concern...at all...then ...</td>\n",
              "    </tr>\n",
              "    <tr>\n",
              "      <th>9</th>\n",
              "      <td>0.0</td>\n",
              "      <td>0.4842</td>\n",
              "      <td>go, would, think, world, get, know, live, look...</td>\n",
              "      <td>If I was 100 years old, i'll be the first to d...</td>\n",
              "    </tr>\n",
              "    <tr>\n",
              "      <th>10</th>\n",
              "      <td>0.0</td>\n",
              "      <td>0.3896</td>\n",
              "      <td>go, would, think, world, get, know, live, look...</td>\n",
              "      <td>Florida and Delaware: Aight imma head out\\n\\n</td>\n",
              "    </tr>\n",
              "    <tr>\n",
              "      <th>11</th>\n",
              "      <td>3.0</td>\n",
              "      <td>0.3778</td>\n",
              "      <td>year, change, planet, science, earth, man, tim...</td>\n",
              "      <td>Let's drop some nukes on those ice caps and sp...</td>\n",
              "    </tr>\n",
              "    <tr>\n",
              "      <th>12</th>\n",
              "      <td>0.0</td>\n",
              "      <td>0.7957</td>\n",
              "      <td>go, would, think, world, get, know, live, look...</td>\n",
              "      <td>More like what America would look like.\\n\\n</td>\n",
              "    </tr>\n",
              "    <tr>\n",
              "      <th>13</th>\n",
              "      <td>1.0</td>\n",
              "      <td>0.4519</td>\n",
              "      <td>make, say, take, people, lot, right, many, use...</td>\n",
              "      <td>So your telling me I'm walking on ice right no...</td>\n",
              "    </tr>\n",
              "    <tr>\n",
              "      <th>14</th>\n",
              "      <td>0.0</td>\n",
              "      <td>0.4632</td>\n",
              "      <td>go, would, think, world, get, know, live, look...</td>\n",
              "      <td>Just build lol\\n\\n</td>\n",
              "    </tr>\n",
              "    <tr>\n",
              "      <th>15</th>\n",
              "      <td>0.0</td>\n",
              "      <td>0.4709</td>\n",
              "      <td>go, would, think, world, get, know, live, look...</td>\n",
              "      <td>you don't really believe this crap do you, the...</td>\n",
              "    </tr>\n",
              "    <tr>\n",
              "      <th>16</th>\n",
              "      <td>0.0</td>\n",
              "      <td>0.5959</td>\n",
              "      <td>go, would, think, world, get, know, live, look...</td>\n",
              "      <td>this isn’t funny. doesn’t anybody care about t...</td>\n",
              "    </tr>\n",
              "    <tr>\n",
              "      <th>17</th>\n",
              "      <td>1.0</td>\n",
              "      <td>0.4928</td>\n",
              "      <td>make, say, take, people, lot, right, many, use...</td>\n",
              "      <td>Are you serious? The earth is going to do its ...</td>\n",
              "    </tr>\n",
              "    <tr>\n",
              "      <th>18</th>\n",
              "      <td>1.0</td>\n",
              "      <td>0.5787</td>\n",
              "      <td>make, say, take, people, lot, right, many, use...</td>\n",
              "      <td>My question is... Does this account for the we...</td>\n",
              "    </tr>\n",
              "    <tr>\n",
              "      <th>19</th>\n",
              "      <td>0.0</td>\n",
              "      <td>0.8474</td>\n",
              "      <td>go, would, think, world, get, know, live, look...</td>\n",
              "      <td>Atlantis be like sweet new friends\\n\\n</td>\n",
              "    </tr>\n",
              "  </tbody>\n",
              "</table>\n",
              "</div>"
            ],
            "text/plain": [
              "    Dominant Topic  ...                                            Comment\n",
              "0              2.0  ...  If all the ice melts surely the tilt of the ea...\n",
              "1              0.0  ...  The scariest part of the video is the music......\n",
              "2              0.0  ...      New Zealand be like...\"are we good?\" 🤷‍♂️\\n\\n\n",
              "3              0.0  ...  Step #1: Taxes... Step #2: ???... Step #3: Uto...\n",
              "4              0.0  ...  Strange how Hudson's Bay stayed the same size....\n",
              "5              0.0  ...          Sweet I'll have ocean front property.\\n\\n\n",
              "6              0.0  ...            Brazil will lost 25% of territory 😂\\n\\n\n",
              "7              0.0  ...  Lesson learned : dont put your capitol city ne...\n",
              "8              2.0  ...  If this was an actual concern...at all...then ...\n",
              "9              0.0  ...  If I was 100 years old, i'll be the first to d...\n",
              "10             0.0  ...      Florida and Delaware: Aight imma head out\\n\\n\n",
              "11             3.0  ...  Let's drop some nukes on those ice caps and sp...\n",
              "12             0.0  ...        More like what America would look like.\\n\\n\n",
              "13             1.0  ...  So your telling me I'm walking on ice right no...\n",
              "14             0.0  ...                                 Just build lol\\n\\n\n",
              "15             0.0  ...  you don't really believe this crap do you, the...\n",
              "16             0.0  ...  this isn’t funny. doesn’t anybody care about t...\n",
              "17             1.0  ...  Are you serious? The earth is going to do its ...\n",
              "18             1.0  ...  My question is... Does this account for the we...\n",
              "19             0.0  ...             Atlantis be like sweet new friends\\n\\n\n",
              "\n",
              "[20 rows x 4 columns]"
            ]
          },
          "metadata": {
            "tags": []
          },
          "execution_count": 32
        }
      ]
    },
    {
      "cell_type": "markdown",
      "metadata": {
        "id": "H7bp7WZBVEUx",
        "colab_type": "text"
      },
      "source": [
        "#### Most representative comments for each topic\n",
        "\n",
        "Index shows original placement of commment"
      ]
    },
    {
      "cell_type": "code",
      "metadata": {
        "id": "nKs03thyVMl0",
        "colab_type": "code",
        "colab": {
          "base_uri": "https://localhost:8080/",
          "height": 622
        },
        "outputId": "6c530e97-d983-46bb-e52d-09dc32ab47b3"
      },
      "source": [
        "top_comments_df = pd.DataFrame()\n",
        "\n",
        "with pd.option_context('display.max_colwidth', None, 'display.max_rows', 20):\n",
        "  for topic in data_topic_keywords.groupby('Dominant_Topic'):\n",
        "      top_comments_df = pd.concat([top_comments_df, topic[1].sort_values(['Perc_Contribution'], ascending=[0]).head(5)])\n",
        "\n",
        "  top_comments_df.columns= ['Dominant Topic', '% of Topic in Comment', 'Keywords', 'Comment']\n",
        "\n",
        "top_comments_df"
      ],
      "execution_count": null,
      "outputs": [
        {
          "output_type": "execute_result",
          "data": {
            "text/html": [
              "<div>\n",
              "<style scoped>\n",
              "    .dataframe tbody tr th:only-of-type {\n",
              "        vertical-align: middle;\n",
              "    }\n",
              "\n",
              "    .dataframe tbody tr th {\n",
              "        vertical-align: top;\n",
              "    }\n",
              "\n",
              "    .dataframe thead th {\n",
              "        text-align: right;\n",
              "    }\n",
              "</style>\n",
              "<table border=\"1\" class=\"dataframe\">\n",
              "  <thead>\n",
              "    <tr style=\"text-align: right;\">\n",
              "      <th></th>\n",
              "      <th>Dominant Topic</th>\n",
              "      <th>% of Topic in Comment</th>\n",
              "      <th>Keywords</th>\n",
              "      <th>Comment</th>\n",
              "    </tr>\n",
              "  </thead>\n",
              "  <tbody>\n",
              "    <tr>\n",
              "      <th>3535</th>\n",
              "      <td>0.0</td>\n",
              "      <td>0.9656</td>\n",
              "      <td>go, would, think, world, get, know, live, look...</td>\n",
              "      <td>There will probably be a billion people living...</td>\n",
              "    </tr>\n",
              "    <tr>\n",
              "      <th>241</th>\n",
              "      <td>0.0</td>\n",
              "      <td>0.9593</td>\n",
              "      <td>go, would, think, world, get, know, live, look...</td>\n",
              "      <td>So why is waterfront property still cost so mu...</td>\n",
              "    </tr>\n",
              "    <tr>\n",
              "      <th>5837</th>\n",
              "      <td>0.0</td>\n",
              "      <td>0.9589</td>\n",
              "      <td>go, would, think, world, get, know, live, look...</td>\n",
              "      <td>From what I guess, most likely not but who kno...</td>\n",
              "    </tr>\n",
              "    <tr>\n",
              "      <th>20842</th>\n",
              "      <td>0.0</td>\n",
              "      <td>0.9564</td>\n",
              "      <td>go, would, think, world, get, know, live, look...</td>\n",
              "      <td>We do something against the rising water thoug...</td>\n",
              "    </tr>\n",
              "    <tr>\n",
              "      <th>24563</th>\n",
              "      <td>0.0</td>\n",
              "      <td>0.9561</td>\n",
              "      <td>go, would, think, world, get, know, live, look...</td>\n",
              "      <td>Or Gambia.\\n\\n</td>\n",
              "    </tr>\n",
              "    <tr>\n",
              "      <th>503</th>\n",
              "      <td>1.0</td>\n",
              "      <td>0.9064</td>\n",
              "      <td>make, say, take, people, lot, right, many, use...</td>\n",
              "      <td>Trees make air.  \\nPeople breath air.  \\nZero ...</td>\n",
              "    </tr>\n",
              "    <tr>\n",
              "      <th>1718</th>\n",
              "      <td>1.0</td>\n",
              "      <td>0.8942</td>\n",
              "      <td>make, say, take, people, lot, right, many, use...</td>\n",
              "      <td>Baltics have left the chat Crimea can into isl...</td>\n",
              "    </tr>\n",
              "    <tr>\n",
              "      <th>74</th>\n",
              "      <td>1.0</td>\n",
              "      <td>0.8587</td>\n",
              "      <td>make, say, take, people, lot, right, many, use...</td>\n",
              "      <td>Lets see which go underwater at times  \\n  \\n ...</td>\n",
              "    </tr>\n",
              "    <tr>\n",
              "      <th>1710</th>\n",
              "      <td>1.0</td>\n",
              "      <td>0.8519</td>\n",
              "      <td>make, say, take, people, lot, right, many, use...</td>\n",
              "      <td>Delaware has left the chat Louisiana has left ...</td>\n",
              "    </tr>\n",
              "    <tr>\n",
              "      <th>15894</th>\n",
              "      <td>1.0</td>\n",
              "      <td>0.8519</td>\n",
              "      <td>make, say, take, people, lot, right, many, use...</td>\n",
              "      <td>Good thing I don't live in Florida. Now Miami ...</td>\n",
              "    </tr>\n",
              "    <tr>\n",
              "      <th>8725</th>\n",
              "      <td>2.0</td>\n",
              "      <td>0.9388</td>\n",
              "      <td>water, ice, level, sea, melt, rise, would, lan...</td>\n",
              "      <td>If you place ice in a cup... the level of wate...</td>\n",
              "    </tr>\n",
              "    <tr>\n",
              "      <th>12485</th>\n",
              "      <td>2.0</td>\n",
              "      <td>0.9381</td>\n",
              "      <td>water, ice, level, sea, melt, rise, would, lan...</td>\n",
              "      <td>Fill a glass with ice cubes, top it off with w...</td>\n",
              "    </tr>\n",
              "    <tr>\n",
              "      <th>3253</th>\n",
              "      <td>2.0</td>\n",
              "      <td>0.9103</td>\n",
              "      <td>water, ice, level, sea, melt, rise, would, lan...</td>\n",
              "      <td>Melting *SEA* ice does not change sea level. M...</td>\n",
              "    </tr>\n",
              "    <tr>\n",
              "      <th>17804</th>\n",
              "      <td>2.0</td>\n",
              "      <td>0.9101</td>\n",
              "      <td>water, ice, level, sea, melt, rise, would, lan...</td>\n",
              "      <td>The bath water level increase! Now imagine the...</td>\n",
              "    </tr>\n",
              "    <tr>\n",
              "      <th>14821</th>\n",
              "      <td>2.0</td>\n",
              "      <td>0.8994</td>\n",
              "      <td>water, ice, level, sea, melt, rise, would, lan...</td>\n",
              "      <td>JEFFREY G DELABRE not exactly... the melting o...</td>\n",
              "    </tr>\n",
              "    <tr>\n",
              "      <th>10030</th>\n",
              "      <td>3.0</td>\n",
              "      <td>0.8564</td>\n",
              "      <td>year, change, planet, science, earth, man, tim...</td>\n",
              "      <td>Yep, but real climatologists say the earth is ...</td>\n",
              "    </tr>\n",
              "    <tr>\n",
              "      <th>19044</th>\n",
              "      <td>3.0</td>\n",
              "      <td>0.8312</td>\n",
              "      <td>year, change, planet, science, earth, man, tim...</td>\n",
              "      <td>Wow is that ever some tangled logic and in any...</td>\n",
              "    </tr>\n",
              "    <tr>\n",
              "      <th>2874</th>\n",
              "      <td>3.0</td>\n",
              "      <td>0.8281</td>\n",
              "      <td>year, change, planet, science, earth, man, tim...</td>\n",
              "      <td>SCIENCE INSIDER  \\n  \\n  \\n  \\n  \\nSAYS BUISNE...</td>\n",
              "    </tr>\n",
              "    <tr>\n",
              "      <th>16007</th>\n",
              "      <td>3.0</td>\n",
              "      <td>0.8244</td>\n",
              "      <td>year, change, planet, science, earth, man, tim...</td>\n",
              "      <td>Paulo Junior Florida, South Carolina, Denmark ...</td>\n",
              "    </tr>\n",
              "    <tr>\n",
              "      <th>23419</th>\n",
              "      <td>3.0</td>\n",
              "      <td>0.8124</td>\n",
              "      <td>year, change, planet, science, earth, man, tim...</td>\n",
              "      <td>At least Japan's still okay. We can still watc...</td>\n",
              "    </tr>\n",
              "  </tbody>\n",
              "</table>\n",
              "</div>"
            ],
            "text/plain": [
              "       Dominant Topic  ...                                            Comment\n",
              "3535              0.0  ...  There will probably be a billion people living...\n",
              "241               0.0  ...  So why is waterfront property still cost so mu...\n",
              "5837              0.0  ...  From what I guess, most likely not but who kno...\n",
              "20842             0.0  ...  We do something against the rising water thoug...\n",
              "24563             0.0  ...                                     Or Gambia.\\n\\n\n",
              "503               1.0  ...  Trees make air.  \\nPeople breath air.  \\nZero ...\n",
              "1718              1.0  ...  Baltics have left the chat Crimea can into isl...\n",
              "74                1.0  ...  Lets see which go underwater at times  \\n  \\n ...\n",
              "1710              1.0  ...  Delaware has left the chat Louisiana has left ...\n",
              "15894             1.0  ...  Good thing I don't live in Florida. Now Miami ...\n",
              "8725              2.0  ...  If you place ice in a cup... the level of wate...\n",
              "12485             2.0  ...  Fill a glass with ice cubes, top it off with w...\n",
              "3253              2.0  ...  Melting *SEA* ice does not change sea level. M...\n",
              "17804             2.0  ...  The bath water level increase! Now imagine the...\n",
              "14821             2.0  ...  JEFFREY G DELABRE not exactly... the melting o...\n",
              "10030             3.0  ...  Yep, but real climatologists say the earth is ...\n",
              "19044             3.0  ...  Wow is that ever some tangled logic and in any...\n",
              "2874              3.0  ...  SCIENCE INSIDER  \\n  \\n  \\n  \\n  \\nSAYS BUISNE...\n",
              "16007             3.0  ...  Paulo Junior Florida, South Carolina, Denmark ...\n",
              "23419             3.0  ...  At least Japan's still okay. We can still watc...\n",
              "\n",
              "[20 rows x 4 columns]"
            ]
          },
          "metadata": {
            "tags": []
          },
          "execution_count": 33
        }
      ]
    },
    {
      "cell_type": "markdown",
      "metadata": {
        "id": "wKZ3Vn8dVPpz",
        "colab_type": "text"
      },
      "source": [
        "#### Topic distribution"
      ]
    },
    {
      "cell_type": "code",
      "metadata": {
        "id": "AJASaw68VSug",
        "colab_type": "code",
        "colab": {
          "base_uri": "https://localhost:8080/",
          "height": 352
        },
        "outputId": "0e137a4f-1bc8-484d-f071-bb062d6f969a"
      },
      "source": [
        "import matplotlib.pyplot as plt\n",
        "fig = plt.figure()\n",
        "ax = fig.add_axes([0,0,1,1])\n",
        "\n",
        "topic_count = data_topic_keywords['Dominant_Topic'].value_counts()\n",
        "\n",
        "x = []\n",
        "y = []\n",
        "\n",
        "for i, topic in enumerate(topic_count):\n",
        "    y.append(float(topic_count[i]))\n",
        "    x.append('Topic {}'.format(i))\n",
        "\n",
        "ax.bar(x,y)\n",
        "ax.set_title('Topic distribution over comments')\n",
        "plt.show()"
      ],
      "execution_count": null,
      "outputs": [
        {
          "output_type": "display_data",
          "data": {
            "image/png": "[encoded data removed]",
            "text/plain": [
              "<Figure size 432x288 with 1 Axes>"
            ]
          },
          "metadata": {
            "tags": [],
            "needs_background": "light"
          }
        }
      ]
    },
    {
      "cell_type": "markdown",
      "metadata": {
        "id": "HPd2rfaSVUvv",
        "colab_type": "text"
      },
      "source": [
        "#### Show topic distribution for single comment"
      ]
    },
    {
      "cell_type": "code",
      "metadata": {
        "id": "U-dQc10aVYbh",
        "colab_type": "code",
        "colab": {}
      },
      "source": [
        "get_document_topics = tuned_lda_model.get_document_topics(corpus)"
      ],
      "execution_count": null,
      "outputs": []
    },
    {
      "cell_type": "code",
      "metadata": {
        "id": "erMnzNzMVbXS",
        "colab_type": "code",
        "colab": {}
      },
      "source": [
        "comment_id = int(input())\n",
        "\n",
        "get_document_topics[comment_id]"
      ],
      "execution_count": null,
      "outputs": []
    },
    {
      "cell_type": "markdown",
      "metadata": {
        "id": "5YxXP5PtAFyV",
        "colab_type": "text"
      },
      "source": [
        "## Contextual Embeddings"
      ]
    },
    {
      "cell_type": "markdown",
      "metadata": {
        "id": "ScRFb3wXVxCJ",
        "colab_type": "text"
      },
      "source": [
        "### BERT"
      ]
    },
    {
      "cell_type": "code",
      "metadata": {
        "id": "Jm_zfajOuL00",
        "colab_type": "code",
        "colab": {}
      },
      "source": [
        "!pip3 install transformers"
      ],
      "execution_count": null,
      "outputs": []
    },
    {
      "cell_type": "code",
      "metadata": {
        "id": "hCUaASBZulk5",
        "colab_type": "code",
        "colab": {}
      },
      "source": [
        "import torch\n",
        "from transformers import BertTokenizerFast, BertTokenizer, BertModel\n",
        "\n",
        "# Logging activation\n",
        "import logging\n",
        "#logging.basicConfig(level=logging.INFO)\n",
        "\n",
        "import matplotlib.pyplot as plt\n",
        "% matplotlib inline\n",
        "\n",
        "# Load pre-trained model tokenizer (vocabulary)\n",
        "model_version = 'bert-base-uncased'\n",
        "do_lower_case = True\n",
        "model = BertModel.from_pretrained(model_version, output_attentions=True)\n",
        "tokenizer = BertTokenizerFast.from_pretrained(model_version)"
      ],
      "execution_count": null,
      "outputs": []
    },
    {
      "cell_type": "code",
      "metadata": {
        "id": "enaxgs1-xV-9",
        "colab_type": "code",
        "colab": {}
      },
      "source": [
        "print('Original comment: ', len(data['cleaned'][0]))\n",
        "print('Comments split into tokens: ', tokenizer.tokenize(data['cleaned'][0]))\n",
        "print('Words in comment mapped to token IDs: ', tokenizer.convert_tokens_to_ids(tokenizer.tokenize(data['cleaned'][0])))\n",
        "\n",
        "#tokenize.encode does both steps"
      ],
      "execution_count": null,
      "outputs": []
    },
    {
      "cell_type": "code",
      "metadata": {
        "id": "Rsq6Tq3x76ZK",
        "colab_type": "code",
        "colab": {}
      },
      "source": [
        "print(sum(len(c) > 512 for c in data['cleaned']))"
      ],
      "execution_count": null,
      "outputs": []
    },
    {
      "cell_type": "code",
      "metadata": {
        "id": "VvrRE482f3-9",
        "colab_type": "code",
        "colab": {}
      },
      "source": [
        "tokenized= data['cleaned'].apply(lambda x: tokenizer.encode(x))"
      ],
      "execution_count": null,
      "outputs": []
    },
    {
      "cell_type": "markdown",
      "metadata": {
        "id": "_aPcvlED7Jti",
        "colab_type": "text"
      },
      "source": [
        "[101] is the token marking the beginning of an input [CLS]\n",
        "\n",
        "[102] is the token marking th end of each sentence [SEP]\n",
        "\n",
        "tokenized is every comment as list of token IDs"
      ]
    },
    {
      "cell_type": "code",
      "metadata": {
        "id": "F77pfIHv5uTh",
        "colab_type": "code",
        "colab": {}
      },
      "source": [
        "import numpy as np\n",
        "max_len = 0\n",
        "for i in tokenized.values:\n",
        "    if len(i) > max_len:\n",
        "        max_len = len(i)\n",
        "\n",
        "padded = np.array([i + [0]*(max_len-len(i)) for i in tokenized.values])"
      ],
      "execution_count": null,
      "outputs": []
    },
    {
      "cell_type": "code",
      "metadata": {
        "id": "yZhIPNA29LST",
        "colab_type": "code",
        "colab": {}
      },
      "source": [
        "np.array(padded).shape"
      ],
      "execution_count": null,
      "outputs": []
    },
    {
      "cell_type": "code",
      "metadata": {
        "id": "Y9x9IpwGBWsM",
        "colab_type": "code",
        "colab": {}
      },
      "source": [
        "attention_mask = np.where(padded != 0, 1, 0)\n",
        "attention_mask.shape"
      ],
      "execution_count": null,
      "outputs": []
    }
  ]
}