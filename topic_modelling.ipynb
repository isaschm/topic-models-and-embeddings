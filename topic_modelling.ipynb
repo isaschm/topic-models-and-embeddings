{
 "cells": [
  {
   "cell_type": "code",
   "execution_count": 7,
   "metadata": {},
   "outputs": [],
   "source": [
    "from __future__ import print_function\n",
    "import time\n",
    "\n",
    "import numpy as np\n",
    "import pandas as pd\n",
    "\n",
    "from sklearn.decomposition import PCA\n",
    "from sklearn.manifold import TSNE\n",
    "\n",
    "%matplotlib inline\n",
    "import matplotlib.pyplot as plt\n",
    "from mpl_toolkits.mplot3d import Axes3D\n",
    "import seaborn as sns"
   ]
  },
  {
   "cell_type": "code",
   "execution_count": 1,
   "metadata": {},
   "outputs": [
    {
     "data": {
      "text/plain": [
       "['Unnamed: 0', 'publishedAt', 'authorName', 'text', 'isReply', 'cleaned']"
      ]
     },
     "execution_count": 1,
     "metadata": {},
     "output_type": "execute_result"
    }
   ],
   "source": [
    "path = \"youtube_comments_climate_change/cleaned_data.csv\"\n",
    "data = pd.read_csv(path, sep=\",\", encoding='utf-8')\n",
    "\n",
    "list(data.columns)"
   ]
  },
  {
   "cell_type": "code",
   "execution_count": 3,
   "metadata": {},
   "outputs": [
    {
     "name": "stdout",
     "output_type": "stream",
     "text": [
      "tf.Tensor(\n",
      "[[ 0.02267956 -0.06716511  0.01718922 ... -0.0158857  -0.043926\n",
      "  -0.00393031]\n",
      " [ 0.04192     0.07056528  0.09499479 ... -0.03520851 -0.0134883\n",
      "   0.04670066]\n",
      " [-0.06692986 -0.00541758 -0.03079402 ...  0.02694076 -0.01263959\n",
      "  -0.07979716]\n",
      " ...\n",
      " [-0.01887087  0.06309654  0.10515169 ... -0.01325583 -0.04266983\n",
      "   0.01906748]\n",
      " [ 0.01090654 -0.08720968 -0.00068635 ...  0.00569523 -0.01905336\n",
      "  -0.04718436]\n",
      " [ 0.0252452  -0.01673799 -0.06606336 ... -0.00096804 -0.04874957\n",
      "  -0.04058736]], shape=(25914, 512), dtype=float32)\n",
      "The embeddings vector is of fixed length 512\n"
     ]
    }
   ],
   "source": [
    "import tensorflow as tf\n",
    "import tensorflow_hub as hub\n",
    "\n",
    "hub_url = \"https://tfhub.dev/google/universal-sentence-encoder/4\"\n",
    "embed = hub.KerasLayer(hub_url)\n",
    "embeddings = embed(data['cleaned'])\n",
    "\n",
    "print(embeddings)\n",
    "print(\"The embeddings vector is of fixed length {}\".format(embeddings.shape[1]))"
   ]
  },
  {
   "cell_type": "code",
   "execution_count": 4,
   "metadata": {},
   "outputs": [
    {
     "name": "stdout",
     "output_type": "stream",
     "text": [
      "[[ 1.0000002   0.00968165  0.12730817 ... -0.04107114  0.24598777\n",
      "   0.35544437]\n",
      " [ 0.00968165  1.          0.027156   ...  0.5482285   0.0241364\n",
      "   0.05005576]\n",
      " [ 0.12730817  0.027156    0.99999964 ...  0.20292103  0.16645284\n",
      "   0.04606095]\n",
      " ...\n",
      " [-0.04107114  0.5482285   0.20292103 ...  1.0000002   0.02003537\n",
      "   0.01877565]\n",
      " [ 0.24598777  0.0241364   0.16645284 ...  0.02003537  1.\n",
      "   0.21783942]\n",
      " [ 0.35544437  0.05005576  0.04606095 ...  0.01877565  0.21783942\n",
      "   1.0000001 ]]\n"
     ]
    }
   ],
   "source": [
    "from sklearn.metrics.pairwise import cosine_similarity\n",
    "\n",
    "def cos_sim(input_vectors):\n",
    "    similarity = cosine_similarity(input_vectors)\n",
    "    return similarity\n",
    "\n",
    "cosine_similarity_matrix = cos_sim(np.array(embeddings))\n",
    "print(cosine_similarity_matrix)"
   ]
  },
  {
   "cell_type": "markdown",
   "metadata": {},
   "source": [
    "X_embed length is 25914 ist eine list\n",
    "X.shape = (25914, 512) ist ein array\n",
    "X_new.shape = (25419, 9)"
   ]
  },
  {
   "cell_type": "code",
   "execution_count": 39,
   "metadata": {},
   "outputs": [
    {
     "name": "stdout",
     "output_type": "stream",
     "text": [
      "Dimensions of embeddings matrix after dimensionality reduction: (25914,9)\n"
     ]
    }
   ],
   "source": [
    "SUBSPACE_DIM = .20\n",
    "\n",
    "X_embed = [np.array(emb) for emb in embeddings]\n",
    "\n",
    "pca = PCA(n_components= SUBSPACE_DIM)\n",
    "X = np.array([emb for emb in X_embed])\n",
    "pca.fit(X)\n",
    "X_new = pca.transform(X)\n",
    "pca_dim = X_new.shape[1]\n",
    "\n",
    "X_list = [ list(X_new[i]) for i in range(X_new.shape[0])]\n",
    "\n",
    "print(\"Dimensions of embeddings matrix after PCA: ({}, {})\".format(X_new.shape[0], X_new.shape[1]))"
   ]
  },
  {
   "cell_type": "code",
   "execution_count": 36,
   "metadata": {
    "scrolled": true
   },
   "outputs": [
    {
     "data": {
      "text/plain": [
       "25914"
      ]
     },
     "execution_count": 36,
     "metadata": {},
     "output_type": "execute_result"
    }
   ],
   "source": []
  },
  {
   "cell_type": "code",
   "execution_count": null,
   "metadata": {},
   "outputs": [],
   "source": []
  }
 ],
 "metadata": {
  "kernelspec": {
   "display_name": "Python 3",
   "language": "python",
   "name": "python3"
  },
  "language_info": {
   "codemirror_mode": {
    "name": "ipython",
    "version": 3
   },
   "file_extension": ".py",
   "mimetype": "text/x-python",
   "name": "python",
   "nbconvert_exporter": "python",
   "pygments_lexer": "ipython3",
   "version": "3.7.5"
  }
 },
 "nbformat": 4,
 "nbformat_minor": 4
}
