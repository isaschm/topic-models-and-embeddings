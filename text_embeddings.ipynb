{
 "cells": [
  {
   "cell_type": "code",
   "execution_count": 1,
   "metadata": {},
   "outputs": [],
   "source": [
    "import numpy as np\n",
    "import pandas as pd\n",
    "\n",
    "from sklearn.decomposition import PCA\n",
    "from sklearn.manifold import TSNE\n",
    "from sklearn.linear_model import LogisticRegression\n",
    "from sklearn.model_selection import train_test_split\n",
    "\n",
    "%matplotlib inline\n",
    "import matplotlib.pyplot as plt\n",
    "from mpl_toolkits.mplot3d import Axes3D\n",
    "import seaborn as sns"
   ]
  },
  {
   "cell_type": "code",
   "execution_count": 2,
   "metadata": {},
   "outputs": [
    {
     "data": {
      "text/plain": [
       "['Unnamed: 0', 'publishedAt', 'authorName', 'text', 'isReply', 'cleaned']"
      ]
     },
     "execution_count": 2,
     "metadata": {},
     "output_type": "execute_result"
    }
   ],
   "source": [
    "path = \"youtube_comments_climate_change/cleaned_data.csv\"\n",
    "data = pd.read_csv(path, sep=\",\", encoding='utf-8')\n",
    "\n",
    "list(data.columns)"
   ]
  },
  {
   "cell_type": "code",
   "execution_count": 3,
   "metadata": {},
   "outputs": [
    {
     "name": "stdout",
     "output_type": "stream",
     "text": [
      "tf.Tensor(\n",
      "[[ 0.02267956 -0.06716511  0.01718922 ... -0.0158857  -0.043926\n",
      "  -0.00393031]\n",
      " [ 0.04192     0.07056528  0.09499479 ... -0.03520851 -0.0134883\n",
      "   0.04670066]\n",
      " [-0.06692986 -0.00541758 -0.03079402 ...  0.02694076 -0.01263959\n",
      "  -0.07979716]\n",
      " ...\n",
      " [-0.01887087  0.06309654  0.10515169 ... -0.01325583 -0.04266983\n",
      "   0.01906748]\n",
      " [ 0.01090654 -0.08720968 -0.00068635 ...  0.00569523 -0.01905336\n",
      "  -0.04718436]\n",
      " [ 0.0252452  -0.01673799 -0.06606336 ... -0.00096804 -0.04874957\n",
      "  -0.04058736]], shape=(25914, 512), dtype=float32)\n",
      "The embeddings vector is of fixed length 512\n"
     ]
    }
   ],
   "source": [
    "import tensorflow as tf\n",
    "import tensorflow_hub as hub\n",
    "\n",
    "hub_url = \"https://tfhub.dev/google/universal-sentence-encoder/4\"\n",
    "embed = hub.load(hub_url)\n",
    "embeddings = embed(data['cleaned'])\n",
    "\n",
    "print(embeddings)\n",
    "print(\"The embeddings vector is of fixed length {}\".format(embeddings.shape[1]))"
   ]
  },
  {
   "cell_type": "code",
   "execution_count": 4,
   "metadata": {
    "scrolled": true
   },
   "outputs": [
    {
     "name": "stdout",
     "output_type": "stream",
     "text": [
      "[[ 1.0000002   0.00968165  0.12730817 ... -0.04107114  0.24598777\n",
      "   0.35544437]\n",
      " [ 0.00968165  1.          0.027156   ...  0.5482285   0.0241364\n",
      "   0.05005576]\n",
      " [ 0.12730817  0.027156    0.99999964 ...  0.20292103  0.16645284\n",
      "   0.04606095]\n",
      " ...\n",
      " [-0.04107114  0.5482285   0.20292103 ...  1.0000002   0.02003537\n",
      "   0.01877565]\n",
      " [ 0.24598777  0.0241364   0.16645284 ...  0.02003537  1.\n",
      "   0.21783942]\n",
      " [ 0.35544437  0.05005576  0.04606095 ...  0.01877565  0.21783942\n",
      "   1.0000001 ]]\n"
     ]
    }
   ],
   "source": [
    "from sklearn.metrics.pairwise import cosine_similarity\n",
    "\n",
    "def cos_sim(input_vectors):\n",
    "    similarity = cosine_similarity(input_vectors)\n",
    "    return similarity\n",
    "\n",
    "cosine_similarity_matrix = cos_sim(np.array(embeddings))\n",
    "print(cosine_similarity_matrix)"
   ]
  },
  {
   "cell_type": "markdown",
   "metadata": {},
   "source": [
    "### PCA"
   ]
  },
  {
   "cell_type": "markdown",
   "metadata": {},
   "source": [
    "#### Choosing dimensions by looking at cumulative explained variance ration"
   ]
  },
  {
   "cell_type": "code",
   "execution_count": 5,
   "metadata": {},
   "outputs": [],
   "source": [
    "X_embed = [np.array(emb) for emb in embeddings]\n",
    "X = np.array([emb for emb in X_embed])"
   ]
  },
  {
   "cell_type": "code",
   "execution_count": 6,
   "metadata": {},
   "outputs": [
    {
     "data": {
      "image/png": "[encoded data removed]",
      "text/plain": [
       "<Figure size 432x288 with 1 Axes>"
      ]
     },
     "metadata": {
      "needs_background": "light"
     },
     "output_type": "display_data"
    }
   ],
   "source": [
    "import matplotlib.pyplot as plt\n",
    "\n",
    "pca_cev = PCA().fit(X)\n",
    "plt.plot(np.cumsum(pca_cev.explained_variance_ratio_))\n",
    "plt.axhline(y=0.95, color='r', linestyle='-')\n",
    "plt.text(0.5, 0.85, '95% cut-off threshold', color = 'red', fontsize=12)\n",
    "plt.xlabel('number of components')\n",
    "plt.ylabel('cumulative explained variance')\n",
    "plt.grid(axis='x')"
   ]
  },
  {
   "cell_type": "code",
   "execution_count": 16,
   "metadata": {},
   "outputs": [
    {
     "name": "stdout",
     "output_type": "stream",
     "text": [
      "Dimensions of embeddings matrix after PCA: (25914, 200)\n"
     ]
    }
   ],
   "source": [
    "SUBSPACE_DIM = 200\n",
    "\n",
    "pca = PCA(n_components= SUBSPACE_DIM)\n",
    "X_new = pca.fit_transform(X)\n",
    "\n",
    "X_list = [list(X_new[i]) for i in range(X_new.shape[0])]\n",
    "\n",
    "print(\"Dimensions of embeddings matrix after PCA: ({}, {})\".format(X_new.shape[0], X_new.shape[1]))"
   ]
  },
  {
   "cell_type": "code",
   "execution_count": 15,
   "metadata": {},
   "outputs": [
    {
     "name": "stdout",
     "output_type": "stream",
     "text": [
      "[[3864.858     129.01105    42.02641  ...  -73.81415   -41.748337\n",
      "  -181.80408 ]\n",
      " [ 129.01105  3815.1836     30.550047 ...  -31.129725  -87.092926\n",
      "   -21.680368]\n",
      " [  42.026382   30.550045 3569.6055   ...   71.40777    36.40134\n",
      "  -165.77373 ]\n",
      " ...\n",
      " [ -73.81413   -31.129784   71.40777  ... 3819.178    -115.66477\n",
      "   114.75978 ]\n",
      " [ -41.74827   -87.09289    36.401268 ... -115.664696 3409.148\n",
      "    -8.523717]\n",
      " [-181.80406   -21.680403 -165.77377  ...  114.75984    -8.523844\n",
      "  4037.0527  ]]\n"
     ]
    }
   ],
   "source": [
    "print(pca.get_precision())"
   ]
  },
  {
   "cell_type": "code",
   "execution_count": 21,
   "metadata": {},
   "outputs": [
    {
     "name": "stdout",
     "output_type": "stream",
     "text": [
      "512\n",
      "[-7.80603103e-03 -3.86379622e-02 -4.07916717e-02  9.97944921e-03\n",
      " -5.54416776e-02  4.31772247e-02  3.81156318e-02  1.19013805e-02\n",
      "  3.50685418e-02 -2.66028754e-03 -3.36913578e-02 -9.09148064e-03\n",
      "  2.01296881e-02  7.23345531e-03  1.52603723e-02 -5.28726280e-02\n",
      "  9.84283909e-03  3.33560328e-03 -1.35115078e-02  1.26073519e-02\n",
      " -4.38196436e-02 -3.13039646e-02 -3.49252857e-02  9.19815451e-02\n",
      "  4.15118262e-02 -3.16336122e-03  4.07488234e-02 -1.08589502e-02\n",
      "  2.71074455e-02 -2.41882354e-02 -6.12753369e-02 -4.89025973e-02\n",
      " -3.07106762e-03 -2.55321190e-02  4.99618845e-03  3.90415676e-02\n",
      " -1.65431574e-02  2.69792117e-02  1.19269756e-03 -5.08630648e-02\n",
      " -1.21297333e-02 -1.11361546e-02 -3.51435728e-02 -3.23922932e-02\n",
      " -7.85097405e-02  2.94865910e-02  6.08211569e-02 -1.23080853e-02\n",
      "  2.43921559e-02 -7.43153095e-02 -3.60873938e-02  2.61375997e-02\n",
      "  2.32341699e-02  1.63052790e-02  3.89848538e-02 -2.16268618e-02\n",
      " -6.34685457e-02  2.22041346e-02  3.39773558e-02  2.13917419e-02\n",
      "  3.35350223e-02 -4.33565751e-02  4.90131788e-02 -3.05005256e-02\n",
      " -7.34378546e-02 -4.84299473e-02  1.53197506e-02  4.64608707e-02\n",
      " -4.73015420e-02  1.09845940e-02 -2.51297783e-02  8.38180929e-02\n",
      " -1.19531369e-02  1.77169535e-02  8.65406916e-03  5.00113815e-02\n",
      "  5.19681871e-02 -9.45974328e-03  3.70727703e-02  5.71050867e-02\n",
      "  1.24739677e-01 -3.60851176e-02 -2.25882255e-03 -1.16432598e-02\n",
      "  5.64993434e-02 -3.88134876e-03  2.42660474e-03  4.60035168e-02\n",
      " -4.86036502e-02 -1.42008299e-03  4.11799848e-02  1.90975368e-02\n",
      "  1.27973116e-03 -2.94164140e-02 -3.37328985e-02 -8.71881191e-03\n",
      "  5.93695305e-02 -5.69598302e-02  1.45213187e-01 -4.46847640e-02\n",
      "  1.81624887e-03  6.79936931e-02 -5.06309210e-04 -6.46993890e-02\n",
      "  1.26017758e-03 -6.67542070e-02 -2.73928810e-02  1.09983459e-02\n",
      "  5.00728078e-02 -5.36510088e-02  8.16696882e-03  2.76827328e-02\n",
      "  4.91262302e-02 -2.35917652e-03  2.42089983e-02 -4.79646288e-02\n",
      "  6.51421323e-02 -6.94149807e-02 -3.98557866e-03 -3.10774595e-02\n",
      "  8.49820822e-02 -3.17600854e-02 -2.90339682e-02  3.24965455e-02\n",
      " -2.01598965e-02 -4.81570214e-02  6.87014312e-02 -4.55723517e-02\n",
      " -1.80408470e-02  3.31667736e-02  7.01311156e-02  1.06512867e-01\n",
      " -2.77695321e-02 -9.92217734e-02 -6.18242892e-03 -5.65156788e-02\n",
      " -5.53459935e-02 -6.28111959e-02 -5.48613083e-04 -2.29556281e-02\n",
      " -3.51659507e-02  1.03339814e-01 -6.96575418e-02  6.41666427e-02\n",
      "  1.26594633e-01  6.82730973e-02 -2.15005782e-02 -1.20673981e-02\n",
      " -1.04869828e-02 -2.92311572e-02 -2.11426113e-02 -2.41001937e-04\n",
      "  7.26311877e-02 -2.63212994e-02 -4.21550684e-02  3.53116170e-02\n",
      " -2.55812239e-02  1.07660815e-01 -4.78626648e-03 -3.92796146e-03\n",
      "  1.67526249e-02 -2.82874815e-02 -6.48793951e-03  1.05153080e-02\n",
      " -1.08868508e-02 -2.95392275e-02  1.19051374e-01 -3.17856036e-02\n",
      "  1.99561603e-02 -5.14846966e-02  4.00188901e-02 -4.42982838e-03\n",
      " -3.25636156e-02  8.33240701e-05  2.33198679e-03  1.95669122e-02\n",
      " -9.60818026e-03  5.27950749e-02 -1.90928672e-02 -3.99009995e-02\n",
      " -1.46288397e-02  2.20473595e-02 -3.23428512e-02 -1.70257762e-02\n",
      " -3.82050760e-02 -2.02543801e-03 -1.33994955e-03 -5.51711060e-02\n",
      " -5.58715872e-02 -1.65976807e-02 -6.83319662e-03 -1.47224003e-02\n",
      " -4.79399934e-02  3.86489928e-02 -6.05657920e-02  4.99644876e-03\n",
      " -2.72150431e-02 -7.14259967e-02  7.24671641e-03 -5.85173741e-02\n",
      "  5.45869544e-02  1.03049884e-02 -2.32572500e-02 -9.35155153e-02\n",
      " -5.04841246e-02 -6.13168702e-02 -6.01603300e-04 -1.21062975e-02\n",
      " -3.54996659e-02 -5.11853322e-02  2.32924093e-02 -6.53475104e-03\n",
      "  2.82208510e-02 -2.56343838e-02 -2.72860331e-03 -1.91349033e-02\n",
      "  4.49737906e-02 -1.84148457e-02 -6.69205487e-02  7.11587956e-03\n",
      " -3.63021754e-02 -1.43819945e-02 -4.95806411e-02 -4.13310491e-02\n",
      " -4.33846842e-03 -3.34725641e-02 -2.74701286e-02 -8.07162374e-02\n",
      "  4.34999261e-03 -2.03548670e-02 -4.02169116e-02 -5.44111766e-02\n",
      " -4.04679887e-02 -3.19674402e-01 -8.88675638e-03  6.26470521e-02\n",
      " -7.10212253e-03  1.80293582e-02  2.66976580e-02  1.34166712e-02\n",
      "  1.26524698e-02  2.91071199e-02 -7.63057824e-03 -2.05649436e-02\n",
      " -6.71476051e-02 -3.46498042e-02 -1.99647546e-02  7.74604827e-02\n",
      " -3.00532859e-02  9.12555978e-02  5.35455085e-02 -2.21351031e-02\n",
      "  9.96516552e-03 -5.36508746e-02  8.32905248e-02  3.68515849e-02\n",
      " -4.11016447e-03  5.89867793e-02  2.32383795e-02 -1.10425288e-02\n",
      "  2.12885570e-02 -3.31371166e-02  9.02913231e-03 -5.79251833e-02\n",
      " -1.94333065e-02 -2.12848708e-02  8.96570086e-02  4.36475165e-02\n",
      " -4.08517271e-02 -1.03436476e-02 -6.27084300e-02 -4.95949835e-02\n",
      "  1.28119187e-02  3.15190330e-02  1.14791188e-02 -2.56962348e-02\n",
      " -1.46666644e-02  4.08325158e-02  7.59273442e-03  2.90381759e-02\n",
      " -2.14651320e-03 -1.22265741e-02  1.38435774e-02  9.35112406e-03\n",
      " -2.81406175e-02 -5.54698668e-02 -1.12401983e-02  2.81643611e-03\n",
      "  1.54157635e-02  5.71205420e-03 -7.28237554e-02 -2.33798083e-02\n",
      "  1.36940420e-01  1.80856902e-02 -2.77764499e-02 -3.84874991e-03\n",
      " -1.15319435e-02 -1.73377283e-02 -1.11235809e-02  4.91527393e-02\n",
      " -1.23881111e-02 -5.22352643e-02 -2.64909901e-02 -9.87884868e-03\n",
      "  1.27774701e-02  7.07746251e-03 -3.42450687e-03 -1.53066050e-02\n",
      "  2.37317174e-03 -7.03577623e-02 -2.42124572e-02 -2.44840086e-02\n",
      " -2.01890171e-02  4.27209660e-02 -2.09968109e-02 -3.92374061e-02\n",
      " -5.41898049e-03  8.99972767e-03  7.65036196e-02  1.69187635e-02\n",
      "  4.53632325e-02  5.45446910e-02  2.81241965e-02 -7.15255067e-02\n",
      "  3.66121382e-02 -3.32182944e-02  2.48069235e-04 -2.98151583e-03\n",
      " -2.69326568e-02  5.07938862e-02 -4.31833826e-02  1.95244495e-02\n",
      "  1.73754990e-02  3.80695313e-02 -1.60296336e-02 -2.40340400e-02\n",
      "  2.51908954e-02  9.26743597e-02 -3.31695862e-02  3.37890647e-02\n",
      "  2.00482048e-02 -5.39045921e-03 -3.90790515e-02 -1.86241008e-02\n",
      " -5.61338961e-02 -9.09807533e-02 -3.27442884e-02  9.19851847e-03\n",
      "  2.12317668e-02 -1.31551726e-02  3.40798758e-02  8.37379619e-02\n",
      " -2.60508824e-02 -4.24009562e-02  4.79126573e-02  3.07106208e-02\n",
      "  2.52807606e-02 -7.09022814e-03  4.11540866e-02 -3.10097076e-02\n",
      " -1.62537303e-02 -1.95045136e-02 -2.41471771e-02  1.82459783e-02\n",
      "  7.96146970e-03  4.54581007e-02  7.55556449e-02 -1.33613721e-02\n",
      "  3.23520205e-03  3.36758532e-02  1.30613297e-02  7.26262107e-02\n",
      " -2.08506938e-02 -7.63978288e-02  2.86978353e-02 -1.53174740e-03\n",
      "  2.11648773e-02  3.33778448e-02 -2.18794961e-03  4.17229574e-04\n",
      "  7.04600513e-02  6.36421330e-03  1.83875987e-03 -2.37874575e-02\n",
      " -1.11556016e-02 -1.93624466e-03  8.31237882e-02 -1.61711480e-02\n",
      " -5.10445014e-02  6.90328628e-02 -7.27301985e-02 -4.38651070e-04\n",
      "  1.33172553e-02  4.42980416e-03 -5.25654107e-02 -3.84914246e-03\n",
      "  1.45758456e-03  1.08126253e-02 -2.38982141e-02  3.18324566e-02\n",
      "  4.01266813e-02 -7.50626400e-02  3.05885766e-02 -2.09018774e-02\n",
      "  8.22996628e-03  1.82814745e-03 -5.88664152e-02  1.57954562e-02\n",
      " -3.34970765e-02  2.76192687e-02 -4.14550863e-02  2.01249458e-02\n",
      "  4.54031527e-02  1.95807125e-03  4.87536751e-02  3.25229694e-03\n",
      " -1.26303649e-02  2.94824801e-02 -4.02399078e-02  1.12965621e-01\n",
      "  6.69875070e-02  1.01867979e-02  1.40550071e-02  2.50634160e-02\n",
      "  2.36041322e-02 -1.21382382e-02 -7.97627270e-02  3.47375982e-02\n",
      "  6.16057292e-02  1.43486215e-02  6.03514500e-02 -9.17822123e-03\n",
      " -2.89515359e-03  7.25919455e-02  3.80556956e-02  3.50271873e-02\n",
      "  1.50785297e-02 -5.83590847e-03  4.06220071e-02 -5.13341129e-02\n",
      " -4.39064391e-02  1.61217358e-02  4.16160449e-02  1.23028839e-02\n",
      " -6.30075559e-02 -3.34169045e-02  7.25178933e-03 -3.59626254e-03\n",
      "  1.59432143e-02  2.46751830e-02 -2.93573141e-02 -4.15033959e-02\n",
      " -1.71734896e-02 -2.68642674e-03 -2.37411633e-02  3.09748258e-02\n",
      "  6.88371062e-02  3.29784416e-02 -1.02699073e-02 -3.87459509e-02\n",
      "  2.02499609e-02  2.09708884e-02  1.39412722e-02  7.16240630e-02\n",
      " -1.32367820e-01  3.90654430e-02 -3.73580214e-03  2.38172393e-02\n",
      "  7.93590769e-03  2.14525349e-02 -9.07364786e-02 -6.14340091e-03\n",
      "  4.36753151e-04  1.60162710e-02 -9.70471371e-03 -1.55293010e-02\n",
      "  8.35774243e-02 -6.62935153e-02  9.91319586e-03 -1.43830597e-01\n",
      " -4.04156139e-03  3.34670916e-02 -9.22257900e-02 -7.86866024e-02\n",
      " -4.04277295e-02  1.75096970e-02 -1.39973983e-02 -5.12767285e-02\n",
      "  4.77305949e-02 -6.55069202e-02  6.01884350e-02  3.31094526e-02\n",
      "  2.56906933e-04  2.73043290e-02 -5.49752489e-02  3.93211376e-03\n",
      "  2.81685572e-02  1.72741693e-02  1.79181825e-02  5.85852051e-03\n",
      "  2.03402247e-02 -2.02189218e-02 -7.23837735e-03  4.51416709e-02\n",
      " -3.08604799e-02  3.17595340e-02 -4.79962789e-02 -3.23184696e-03\n",
      " -1.60446763e-02  2.23474577e-02 -5.90183511e-02 -1.31749697e-02]\n"
     ]
    }
   ],
   "source": [
    "print(pca.components_[0].size)\n",
    "print(pca.components_[0])"
   ]
  },
  {
   "cell_type": "code",
   "execution_count": 28,
   "metadata": {
    "scrolled": true
   },
   "outputs": [
    {
     "name": "stdout",
     "output_type": "stream",
     "text": [
      "[0.05649254 0.02976543 0.02458119 0.02049035 0.01916107 0.01721817\n",
      " 0.0166051  0.01494635 0.01434662 0.01374328 0.01309334 0.01254196\n",
      " 0.01110593 0.01063842 0.01035086 0.00992579 0.00946597 0.009389\n",
      " 0.00909301 0.00891946 0.00862179 0.00851741 0.00822447 0.00801106\n",
      " 0.00790271 0.00781113 0.00771145 0.00760477 0.00744111 0.00739886\n",
      " 0.00702237 0.00693141 0.0067448  0.0066141  0.00648514 0.0063821\n",
      " 0.00634921 0.00630814 0.00612338 0.00607331 0.00597849 0.0058707\n",
      " 0.00581289 0.00559014 0.00556882 0.00555053 0.00544415 0.00539726\n",
      " 0.00532994 0.00519619 0.00515041 0.00509427 0.00497236 0.00494461\n",
      " 0.00488106 0.00475461 0.00474792 0.00470281 0.00465437 0.00464188\n",
      " 0.0045709  0.00451138 0.00445981 0.00441153 0.00438716 0.00428854\n",
      " 0.00427003 0.00422867 0.00418902 0.00414073 0.00409129 0.00402955\n",
      " 0.00398755 0.00397945 0.00397465 0.00385937 0.00384701 0.00379625\n",
      " 0.00375974 0.00371779 0.0036911  0.00364009 0.00362353 0.00359877\n",
      " 0.00357679 0.00353323 0.00349186 0.00347785 0.00343733 0.00342382\n",
      " 0.0033999  0.00335188 0.00334769 0.00332555 0.00328668 0.00327129\n",
      " 0.00324118 0.00323075 0.00316653 0.00315765 0.00309193 0.00308468\n",
      " 0.00306877 0.00305252 0.00303016 0.00300509 0.00295694 0.00294859\n",
      " 0.0029316  0.00290731 0.00289064 0.00287469 0.00282276 0.00281053\n",
      " 0.00279022 0.00276016 0.00274182 0.00273577 0.00271821 0.00269248\n",
      " 0.00266472 0.00265002 0.00261661 0.00261187 0.00258648 0.00255329\n",
      " 0.0025244  0.00252248 0.00250036 0.0024743  0.00245683 0.00244345\n",
      " 0.0024311  0.00242144 0.00239538 0.00238683 0.00237563 0.00236907\n",
      " 0.00233547 0.00233365 0.00231994 0.00227532 0.00226396 0.00224509\n",
      " 0.00222179 0.00221002 0.00219017 0.00218159 0.0021696  0.00212168\n",
      " 0.00210468 0.00207677 0.0020639  0.00203982 0.00203285 0.00201739\n",
      " 0.00199405 0.00198679 0.00196451 0.00195482 0.00192455 0.00190217\n",
      " 0.00187736 0.00186071 0.00184478 0.0018291  0.00181558 0.00176542\n",
      " 0.00175816 0.00173076 0.00169822 0.00168442 0.00163186 0.00161461\n",
      " 0.00157383 0.00153991 0.00152851 0.00148696 0.00143938 0.00138334\n",
      " 0.00136541 0.00133729 0.00131515 0.00127593 0.00124544 0.00123759\n",
      " 0.00119054 0.00117798 0.00113584 0.00112649 0.00108898 0.00104734\n",
      " 0.00104284 0.00099434 0.00094968 0.00094805 0.0009141  0.00088342\n",
      " 0.00086562 0.00084516]\n"
     ]
    }
   ],
   "source": [
    "print(pca.explained_variance_ratio_)"
   ]
  },
  {
   "cell_type": "code",
   "execution_count": 13,
   "metadata": {},
   "outputs": [
    {
     "data": {
      "text/plain": [
       "<matplotlib.collections.PathCollection at 0x15439a390>"
      ]
     },
     "execution_count": 13,
     "metadata": {},
     "output_type": "execute_result"
    },
    {
     "data": {
      "image/png": "[encoded data removed]",
      "text/plain": [
       "<Figure size 432x288 with 1 Axes>"
      ]
     },
     "metadata": {
      "needs_background": "light"
     },
     "output_type": "display_data"
    }
   ],
   "source": [
    "# plot data after pca\n",
    "plt.scatter(X_new[:, 0], X_new[:, 1], alpha=0.2)\n",
    "plt.scatter(X[:, 0], X[:, 1], alpha=0.2)"
   ]
  },
  {
   "cell_type": "code",
   "execution_count": 19,
   "metadata": {},
   "outputs": [
    {
     "data": {
      "text/plain": [
       "list"
      ]
     },
     "execution_count": 19,
     "metadata": {},
     "output_type": "execute_result"
    }
   ],
   "source": [
    "type(X_list[0])"
   ]
  },
  {
   "cell_type": "markdown",
   "metadata": {},
   "source": [
    "### Clustering with DBSCAN\n",
    "\n",
    "TODO: takes forevvvverrr"
   ]
  },
  {
   "cell_type": "markdown",
   "metadata": {},
   "source": [
    "DBSCAN Parameter:\n",
    "- eps: Max distance between two samples for them to be considered as in a neigborhood, default=0.5\n",
    "- min_samples: Number of samples in a neighborhood for a point to be considered a core point, default = 5\n",
    "- metric: Metric for calculating distance between instances in a feature array\n",
    "- "
   ]
  },
  {
   "cell_type": "code",
   "execution_count": 29,
   "metadata": {},
   "outputs": [],
   "source": [
    "from sklearn.cluster import DBSCAN\n",
    "\n",
    "db = DBSCAN(eps=0.3, min_samples=10).fit(X_new)"
   ]
  },
  {
   "cell_type": "code",
   "execution_count": 30,
   "metadata": {},
   "outputs": [
    {
     "data": {
      "text/plain": [
       "DBSCAN(algorithm='auto', eps=0.3, leaf_size=30, metric='euclidean',\n",
       "       metric_params=None, min_samples=10, n_jobs=None, p=None)"
      ]
     },
     "execution_count": 30,
     "metadata": {},
     "output_type": "execute_result"
    }
   ],
   "source": [
    "db"
   ]
  },
  {
   "cell_type": "code",
   "execution_count": 32,
   "metadata": {},
   "outputs": [],
   "source": [
    "components = db.components_\n",
    "labels = db.labels_\n",
    "core_sample_indices = db.core_sample_indices_"
   ]
  },
  {
   "cell_type": "code",
   "execution_count": 41,
   "metadata": {},
   "outputs": [],
   "source": [
    "labels\n",
    "(unique, counts) = np.unique(labels, return_counts=True)\n",
    "frequencies = np.asarray((unique, counts)).T"
   ]
  },
  {
   "cell_type": "markdown",
   "metadata": {},
   "source": [
    "From docs: Cluster labels for each point in the dataset given to fit(). Noisy samples are given the label -1."
   ]
  },
  {
   "cell_type": "code",
   "execution_count": 42,
   "metadata": {},
   "outputs": [
    {
     "data": {
      "text/plain": [
       "array([[   -1, 25483],\n",
       "       [    0,    69],\n",
       "       [    1,    11],\n",
       "       [    2,    30],\n",
       "       [    3,    10],\n",
       "       [    4,    24],\n",
       "       [    5,    59],\n",
       "       [    6,    14],\n",
       "       [    7,    14],\n",
       "       [    8,    11],\n",
       "       [    9,    97],\n",
       "       [   10,    11],\n",
       "       [   11,    11],\n",
       "       [   12,    16],\n",
       "       [   13,    19],\n",
       "       [   14,    10],\n",
       "       [   15,    13],\n",
       "       [   16,    12]])"
      ]
     },
     "execution_count": 42,
     "metadata": {},
     "output_type": "execute_result"
    }
   ],
   "source": [
    "frequencies"
   ]
  },
  {
   "cell_type": "code",
   "execution_count": null,
   "metadata": {},
   "outputs": [],
   "source": []
  }
 ],
 "metadata": {
  "kernelspec": {
   "display_name": "Python 3",
   "language": "python",
   "name": "python3"
  },
  "language_info": {
   "codemirror_mode": {
    "name": "ipython",
    "version": 3
   },
   "file_extension": ".py",
   "mimetype": "text/x-python",
   "name": "python",
   "nbconvert_exporter": "python",
   "pygments_lexer": "ipython3",
   "version": "3.7.5"
  }
 },
 "nbformat": 4,
 "nbformat_minor": 4
}
